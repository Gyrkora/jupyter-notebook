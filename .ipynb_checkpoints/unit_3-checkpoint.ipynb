{
 "cells": [
  {
   "cell_type": "markdown",
   "id": "86c76678-6b24-4b8b-b97b-489e8808396d",
   "metadata": {},
   "source": [
    "<h1>Unidad 3</h1>\n",
    "\n",
    "<h2>Tuples</h2>\n",
    "\n",
    "<h3>Diferencias entre tuples y lists</h3>\n",
    "\n",
    "<p style=\"margin: 2px\n",
    "\">Las Tuplas son inmutables, mientras que las Listas son mutables \n",
    "Las tuplas en Python son inmutables, lo que significa que una vez creada una tupla, sus elementos no pueden cambiar \n",
    "\r\n",
    "Las tuplas no pueden ser alteradas</p>"
   ]
  },
  {
   "cell_type": "code",
   "execution_count": 1,
   "id": "af0ffaa6-e0b8-46b6-9832-9bcbd24cb933",
   "metadata": {},
   "outputs": [
    {
     "name": "stdout",
     "output_type": "stream",
     "text": [
      "mi lista1\n",
      "primer elemento list 1\n",
      "mi tuple ['1', 1, True]\n",
      "mi primer elemnto tuple 1\n"
     ]
    }
   ],
   "source": [
    "mi_list = ['1', 1, True ]\n",
    "print('mi lista'  + mi_list[0])\n",
    "print('primer elemento list', mi_list[0])\n",
    "\n",
    "\n",
    "my_tuple = ['1', 1, True ]\n",
    "print('mi tuple' , my_tuple)\n",
    "\n",
    "print('mi primer elemnto tuple' ,my_tuple[0])"
   ]
  },
  {
   "cell_type": "markdown",
   "id": "94174a65-dccc-4505-9711-f07b4158d489",
   "metadata": {},
   "source": [
    "<h3>¿Cómo saber los id?</h3>"
   ]
  },
  {
   "cell_type": "code",
   "execution_count": 14,
   "id": "d909e32a-434b-400e-b554-933b4e467cba",
   "metadata": {},
   "outputs": [
    {
     "name": "stdout",
     "output_type": "stream",
     "text": [
      "1756446995328\n",
      "1756446742848\n"
     ]
    }
   ],
   "source": [
    "\n",
    "mi_list = ['1', 1, True ]\n",
    "my_tuple = ['1', 1, True ]\n",
    "\n",
    "\n",
    "print(id(mi_list))\n",
    "print(id(my_tuple))"
   ]
  },
  {
   "cell_type": "markdown",
   "id": "a5ff455b-c820-4ea4-8b4e-f44bb815697f",
   "metadata": {},
   "source": [
    "<br>\n",
    "<h3>Los id's mutan y no</h3>\n",
    "<p>el id de las tuplas cambian porque no son los mismos elementos, en cambio las listas, al ser mutables, conservan su id</p>"
   ]
  },
  {
   "cell_type": "code",
   "execution_count": 5,
   "id": "2ff374ef-1c2a-41bb-befc-8ccfdad1d407",
   "metadata": {},
   "outputs": [
    {
     "name": "stdout",
     "output_type": "stream",
     "text": [
      "id list  antes 2157152795392\n",
      "aqui el id de la lista NO cambia 2157152795392\n",
      "id tuple antes 2157152794368\n",
      "aqui el id de tuple sí cambia 2157152794368\n",
      "2157152794368\n"
     ]
    }
   ],
   "source": [
    "mi_list = ['1', 1, True ]\n",
    "\n",
    "my_tuple = ['1', 1, True ]\n",
    "\n",
    "print(\"id list  antes\", id(mi_list))\n",
    "mi_list += [3, 4]\n",
    "print(\"aqui el id de la lista NO cambia\", id(mi_list))\n",
    "\n",
    "print(\"id tuple antes\", id(my_tuple))\n",
    "my_tuple += (3, 4) # no se puede modificar un tuple\n",
    "print(\"aqui el id de tuple sí cambia\", id(my_tuple))\n",
    "# print(id(my_tuple))"
   ]
  },
  {
   "cell_type": "markdown",
   "id": "8f97521a-3620-4fb6-be8c-2a3fd75e0af6",
   "metadata": {},
   "source": [
    "<h2>Conclusión</h2>\n",
    "\r",
    "<p> Para recapitular, las similitudes entre tuplas y listas son:\r\n",
    "\r\n",
    "Son considerados objetos (instancias de una clase).\r\n",
    "Son contenedores de colecciones de datos, pudiendo ser estos de cualquier tipo.\r\n",
    "Son colecciones ordenadas, mantienendo siempre ese orden. Una vez que se ha definido el orden de los elementos, ya no cambiará. Esto puede parecer contradictorio en el caso de las listas. Una tupla mantiene su orden desde el mismo momento en que se crea, no pudiendo alterarlo el programador. En una lista podemos cambiar el orden, pero una vez establecido ese nuevo orden, se garantiza que se mantendrá hasta que decidamos volver a cambiarlo. Esta es una característica que no se garantiza, por ejemplo, en el caso de los diccionarios.\r\n",
    "Tanto en tuplas como en listas puedes acceder a un elemento en particular mediante su índice.\r\n",
    "Las diferencias entre tuplas y listas son:\r\n",
    "\r\n",
    "Una tupla es inmutable. Úsalas cuando sepas con seguridad que tus datos no van a variar durante el ciclo de vida del programa o cuando quieras garantizar que se mantendrán constantes.\r\n",
    "Una lista es mutable. Se puede añadir o eliminar elementos. Las listas crecen y decrecen durante la vida del programa. Úsalas cuando tus datos, por su propia naturaleza, sean susceptibles de variar.\n",
    "</p>"
   ]
  }
 ],
 "metadata": {
  "kernelspec": {
   "display_name": "Python 3 (ipykernel)",
   "language": "python",
   "name": "python3"
  },
  "language_info": {
   "codemirror_mode": {
    "name": "ipython",
    "version": 3
   },
   "file_extension": ".py",
   "mimetype": "text/x-python",
   "name": "python",
   "nbconvert_exporter": "python",
   "pygments_lexer": "ipython3",
   "version": "3.11.4"
  }
 },
 "nbformat": 4,
 "nbformat_minor": 5
}
