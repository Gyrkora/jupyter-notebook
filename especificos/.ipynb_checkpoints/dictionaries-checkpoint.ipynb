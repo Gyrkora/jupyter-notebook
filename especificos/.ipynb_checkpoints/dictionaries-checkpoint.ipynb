{
 "cells": [
  {
   "cell_type": "markdown",
   "id": "4bf3854b-3aad-4951-ab4f-875ec8e4bf37",
   "metadata": {},
   "source": [
    "Sum up numbers \n",
    "https://blog.finxter.com/5-best-ways-to-sum-dictionary-values-in-python/ \n",
    "\n",
    "5 Best Ways to Sum Dictionary Values in Python\n"
   ]
  },
  {
   "cell_type": "code",
   "execution_count": null,
   "id": "713efbc0-86b8-4c3c-9796-2d1f62af6c1f",
   "metadata": {},
   "outputs": [],
   "source": [
    "\n",
    "\n",
    "    \n",
    "#     while True:\n",
    "#         try:\n",
    "#             cantidad = int(input(\"Ingrese la cantidad comprada (0 para finalizar): \"))\n",
    "#             if cantidad == 0:\n",
    "#                 break\n",
    "            \n",
    "#             precio = float(input(\"Ingrese el precio unitario: \"))\n",
    "            \n",
    "#             subtotal = cantidad * precio\n",
    "#             total += subtotal\n",
    "#             lista_de_compras.extend([subtotal])\n",
    "#             print(\"esta es la lista de compras \", lista_de_compras)\n",
    "#             dar_de_baja()\n",
    "#             print(lista_de_compras)\n",
    "            \n",
    "#             # print(f\"Subtotal: {subtotal:.2f}\")\n",
    "            \n",
    "#         except ValueError:\n",
    "#             print(\"Ingrese valores numéricos válidos.\")\n",
    "    \n",
    "#     return total\n",
    "\n",
    "# total_compra = calcular_total_compra()\n",
    "# print(f\"Monto total gastado: {total_compra:.2f}\")\n"
   ]
  },
  {
   "cell_type": "code",
   "execution_count": 6,
   "id": "1615201a-3388-4942-8c51-471eff36e836",
   "metadata": {},
   "outputs": [],
   "source": [
    "def calcular_total_compra():\n",
    "    total = 0\n",
    "    lista_de_compras = [3, 5]\n",
    "    def dar_de_baja():\n",
    "        for index, value in enumerate(lista_de_compras):\n",
    "            print(f\"índice: {index}, costo: {value}\")\n",
    "            eliminar = int(input(\"escriba el índice que quiere eliminar\"))\n",
    "            lista_de_compras.remove(eliminar)\n",
    "    dar_de_baja()\n",
    "\n",
    "calcular_total_compra()"
   ]
  }
 ],
 "metadata": {
  "kernelspec": {
   "display_name": "Python 3 (ipykernel)",
   "language": "python",
   "name": "python3"
  },
  "language_info": {
   "codemirror_mode": {
    "name": "ipython",
    "version": 3
   },
   "file_extension": ".py",
   "mimetype": "text/x-python",
   "name": "python",
   "nbconvert_exporter": "python",
   "pygments_lexer": "ipython3",
   "version": "3.11.4"
  }
 },
 "nbformat": 4,
 "nbformat_minor": 5
}
