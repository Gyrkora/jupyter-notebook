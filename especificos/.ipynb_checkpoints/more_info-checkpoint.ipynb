{
 "cells": [
  {
   "cell_type": "markdown",
   "id": "05f5b769-f148-4b2d-a74c-2ae33f5e1396",
   "metadata": {},
   "source": [
    "<h2>Iframes</h2>"
   ]
  },
  {
   "cell_type": "code",
   "execution_count": 1,
   "id": "55509868-ae75-43eb-a6c3-4075f6adbcd6",
   "metadata": {},
   "outputs": [
    {
     "data": {
      "text/html": [
       "\n",
       "        <iframe\n",
       "            width=\"1300\"\n",
       "            height=\"300\"\n",
       "            src=\"https://jupyterlite.github.io/demo/repl/index.html?kernel=python&toolbar=1\"\n",
       "            frameborder=\"0\"\n",
       "            allowfullscreen\n",
       "            \n",
       "        ></iframe>\n",
       "        "
      ],
      "text/plain": [
       "<IPython.lib.display.IFrame at 0x17a946fab90>"
      ]
     },
     "execution_count": 1,
     "metadata": {},
     "output_type": "execute_result"
    }
   ],
   "source": [
    "# from IPython.display import IFrame\n",
    "# IFrame('http://bcd.website.com', width=700, height=350)\n",
    "\n",
    "from IPython.display import IFrame\n",
    "# IFrame(\"https://www.openasapp.com/embedding-an-iframe-step-by-step/\", 900,500)\n",
    "\n",
    "IFrame(\"https://jupyterlite.github.io/demo/repl/index.html?kernel=python&toolbar=1\", 1300, 300)"
   ]
  },
  {
   "cell_type": "code",
   "execution_count": null,
   "id": "67a6aae7-ff1b-4ad6-a57a-894f0b8c624d",
   "metadata": {},
   "outputs": [],
   "source": [
    "<!-- <iframe width=  100%  height = 1500px src=\"https://www.geeksforgeeks.org/python-output-formatting\"></iframe> -->\n",
    "\n",
    "<body>\n",
    "   <iframe src='http://bcd.website.com' />\n",
    "</body>\n"
   ]
  }
 ],
 "metadata": {
  "kernelspec": {
   "display_name": "Python 3 (ipykernel)",
   "language": "python",
   "name": "python3"
  },
  "language_info": {
   "codemirror_mode": {
    "name": "ipython",
    "version": 3
   },
   "file_extension": ".py",
   "mimetype": "text/x-python",
   "name": "python",
   "nbconvert_exporter": "python",
   "pygments_lexer": "ipython3",
   "version": "3.11.4"
  }
 },
 "nbformat": 4,
 "nbformat_minor": 5
}
