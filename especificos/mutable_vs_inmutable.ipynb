{
 "cells": [
  {
   "cell_type": "markdown",
   "id": "cbfd731d-07cb-429f-bd89-fa38b9da4e8c",
   "metadata": {},
   "source": [
    "<h1>Mutable and inmutable variables in Python</h1>"
   ]
  },
  {
   "cell_type": "markdown",
   "id": "1f971245-3a6b-4186-9ac2-966179b02de9",
   "metadata": {},
   "source": [
    "<h2>inmutable variables</h2>\n",
    "\n",
    "<p>Immutable variables are those whose values cannot be changed after they are created. When you modify the value of an immutable variable, a new object is created in memory. Common examples of immutable types in Python are strings, numbers (integers, floats), and tuples.\r\n",
    "\r\n",
    "Here are examples of immutable variables:</p>"
   ]
  },
  {
   "cell_type": "code",
   "execution_count": 3,
   "id": "c63265de-8d74-4e0b-b6bd-841f44855b2b",
   "metadata": {},
   "outputs": [
    {
     "name": "stdout",
     "output_type": "stream",
     "text": [
      "Alice\n",
      "ALICE\n"
     ]
    }
   ],
   "source": [
    "name = \"Alice\"\n",
    "new_name = name.upper()  # A new string object is created\n",
    "print(name)  # Output: \"Alice\"\n",
    "print(new_name)  # Output: \"ALICE\"\n"
   ]
  },
  {
   "cell_type": "code",
   "execution_count": 4,
   "id": "034f566d-689e-416b-baf2-d1518be0a261",
   "metadata": {},
   "outputs": [
    {
     "name": "stdout",
     "output_type": "stream",
     "text": [
      "5\n",
      "7\n"
     ]
    }
   ],
   "source": [
    "x = 5\n",
    "y = x + 2  # A new integer object is created\n",
    "print(x)  # Output: 5\n",
    "print(y)  # Output: 7\n"
   ]
  },
  {
   "cell_type": "code",
   "execution_count": null,
   "id": "33d5d57e-0dda-4d70-98c9-34b4fc0eba55",
   "metadata": {},
   "outputs": [],
   "source": [
    "coordinates = (10, 20)\n",
    "new_coordinates = coordinates + (5,)  # A new tuple object is created\n",
    "print(coordinates)  # Output: (10, 20)\n",
    "print(new_coordinates)  # Output: (10, 20, 5)\n"
   ]
  },
  {
   "cell_type": "markdown",
   "id": "3aefb851-4495-40b1-b61c-959e64b9c64a",
   "metadata": {},
   "source": [
    "<h2>Mutable variables</h2>\n",
    "\n",
    "<p>Mutable variables are those whose values can be modified after they are created. This means that the object itself is modified in memory, rather than creating a new object. Common examples of mutable types in Python are lists, dictionaries, and sets.\r\n",
    "\r\n",
    "Here are examples of mutable variables</p>"
   ]
  },
  {
   "cell_type": "code",
   "execution_count": 5,
   "id": "7fb66080-5206-4462-94eb-667e4f927923",
   "metadata": {},
   "outputs": [
    {
     "name": "stdout",
     "output_type": "stream",
     "text": [
      "[1, 2, 3, 4]\n"
     ]
    }
   ],
   "source": [
    "numbers = [1, 2, 3]\n",
    "numbers.append(4)  # The list is modified in place\n",
    "print(numbers)  # Output: [1, 2, 3, 4]\n"
   ]
  },
  {
   "cell_type": "code",
   "execution_count": 6,
   "id": "3164a878-6f6b-4dcd-8b7b-b84b14227fa6",
   "metadata": {},
   "outputs": [
    {
     "name": "stdout",
     "output_type": "stream",
     "text": [
      "{'name': 'Alice', 'age': 31}\n"
     ]
    }
   ],
   "source": [
    "person = {'name': 'Alice', 'age': 30}\n",
    "person['age'] = 31  # The dictionary value is modified in place\n",
    "print(person)  # Output: {'name': 'Alice', 'age': 31}\n"
   ]
  },
  {
   "cell_type": "code",
   "execution_count": 7,
   "id": "43e5f19e-6222-42c4-9588-42ecb1ba8d96",
   "metadata": {},
   "outputs": [
    {
     "name": "stdout",
     "output_type": "stream",
     "text": [
      "{'red', 'green', 'yellow', 'blue'}\n"
     ]
    }
   ],
   "source": [
    "colors = {'red', 'green', 'blue'}\n",
    "colors.add('yellow')  # The set is modified in place\n",
    "print(colors)  # Output: {'red', 'green', 'blue', 'yellow'}\n"
   ]
  }
 ],
 "metadata": {
  "kernelspec": {
   "display_name": "Python 3 (ipykernel)",
   "language": "python",
   "name": "python3"
  },
  "language_info": {
   "codemirror_mode": {
    "name": "ipython",
    "version": 3
   },
   "file_extension": ".py",
   "mimetype": "text/x-python",
   "name": "python",
   "nbconvert_exporter": "python",
   "pygments_lexer": "ipython3",
   "version": "3.11.4"
  }
 },
 "nbformat": 4,
 "nbformat_minor": 5
}
