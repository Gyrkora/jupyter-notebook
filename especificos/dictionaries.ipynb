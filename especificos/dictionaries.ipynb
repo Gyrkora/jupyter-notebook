{
 "cells": [
  {
   "cell_type": "markdown",
   "id": "4bf3854b-3aad-4951-ab4f-875ec8e4bf37",
   "metadata": {},
   "source": [
    "Sum up numbers \n",
    "https://blog.finxter.com/5-best-ways-to-sum-dictionary-values-in-python/ \n",
    "\n",
    "5 Best Ways to Sum Dictionary Values in Python\n"
   ]
  },
  {
   "cell_type": "code",
   "execution_count": null,
   "id": "713efbc0-86b8-4c3c-9796-2d1f62af6c1f",
   "metadata": {},
   "outputs": [],
   "source": [
    "\n",
    "\n",
    "    \n",
    "#     while True:\n",
    "#         try:\n",
    "#             cantidad = int(input(\"Ingrese la cantidad comprada (0 para finalizar): \"))\n",
    "#             if cantidad == 0:\n",
    "#                 break\n",
    "            \n",
    "#             precio = float(input(\"Ingrese el precio unitario: \"))\n",
    "            \n",
    "#             subtotal = cantidad * precio\n",
    "#             total += subtotal\n",
    "#             lista_de_compras.extend([subtotal])\n",
    "#             print(\"esta es la lista de compras \", lista_de_compras)\n",
    "#             dar_de_baja()\n",
    "#             print(lista_de_compras)\n",
    "            \n",
    "#             # print(f\"Subtotal: {subtotal:.2f}\")\n",
    "            \n",
    "#         except ValueError:\n",
    "#             print(\"Ingrese valores numéricos válidos.\")\n",
    "    \n",
    "#     return total\n",
    "\n",
    "# total_compra = calcular_total_compra()\n",
    "# print(f\"Monto total gastado: {total_compra:.2f}\")\n"
   ]
  },
  {
   "cell_type": "code",
   "execution_count": 7,
   "id": "1615201a-3388-4942-8c51-471eff36e836",
   "metadata": {},
   "outputs": [
    {
     "name": "stdout",
     "output_type": "stream",
     "text": [
      "índice: 0, costo: 3\n"
     ]
    },
    {
     "name": "stdin",
     "output_type": "stream",
     "text": [
      "escriba el índice que quiere eliminar 0\n"
     ]
    },
    {
     "ename": "ValueError",
     "evalue": "list.remove(x): x not in list",
     "output_type": "error",
     "traceback": [
      "\u001b[1;31m----------------------------------------------------\u001b[0m",
      "\u001b[1;31mValueError\u001b[0m         Traceback (most recent call last)",
      "Cell \u001b[1;32mIn[7], line 11\u001b[0m\n\u001b[0;32m      8\u001b[0m             lista_de_compras\u001b[38;5;241m.\u001b[39mremove(eliminar)\n\u001b[0;32m      9\u001b[0m     dar_de_baja()\n\u001b[1;32m---> 11\u001b[0m \u001b[43mcalcular_total_compra\u001b[49m\u001b[43m(\u001b[49m\u001b[43m)\u001b[49m\n",
      "Cell \u001b[1;32mIn[7], line 9\u001b[0m, in \u001b[0;36mcalcular_total_compra\u001b[1;34m()\u001b[0m\n\u001b[0;32m      7\u001b[0m         eliminar \u001b[38;5;241m=\u001b[39m \u001b[38;5;28mint\u001b[39m(\u001b[38;5;28minput\u001b[39m(\u001b[38;5;124m\"\u001b[39m\u001b[38;5;124mescriba el índice que quiere eliminar\u001b[39m\u001b[38;5;124m\"\u001b[39m))\n\u001b[0;32m      8\u001b[0m         lista_de_compras\u001b[38;5;241m.\u001b[39mremove(eliminar)\n\u001b[1;32m----> 9\u001b[0m \u001b[43mdar_de_baja\u001b[49m\u001b[43m(\u001b[49m\u001b[43m)\u001b[49m\n",
      "Cell \u001b[1;32mIn[7], line 8\u001b[0m, in \u001b[0;36mcalcular_total_compra.<locals>.dar_de_baja\u001b[1;34m()\u001b[0m\n\u001b[0;32m      6\u001b[0m \u001b[38;5;28mprint\u001b[39m(\u001b[38;5;124mf\u001b[39m\u001b[38;5;124m\"\u001b[39m\u001b[38;5;124míndice: \u001b[39m\u001b[38;5;132;01m{\u001b[39;00mindex\u001b[38;5;132;01m}\u001b[39;00m\u001b[38;5;124m, costo: \u001b[39m\u001b[38;5;132;01m{\u001b[39;00mvalue\u001b[38;5;132;01m}\u001b[39;00m\u001b[38;5;124m\"\u001b[39m)\n\u001b[0;32m      7\u001b[0m eliminar \u001b[38;5;241m=\u001b[39m \u001b[38;5;28mint\u001b[39m(\u001b[38;5;28minput\u001b[39m(\u001b[38;5;124m\"\u001b[39m\u001b[38;5;124mescriba el índice que quiere eliminar\u001b[39m\u001b[38;5;124m\"\u001b[39m))\n\u001b[1;32m----> 8\u001b[0m \u001b[43mlista_de_compras\u001b[49m\u001b[38;5;241;43m.\u001b[39;49m\u001b[43mremove\u001b[49m\u001b[43m(\u001b[49m\u001b[43meliminar\u001b[49m\u001b[43m)\u001b[49m\n",
      "\u001b[1;31mValueError\u001b[0m: list.remove(x): x not in list"
     ]
    }
   ],
   "source": [
    "def calcular_total_compra():\n",
    "    total = 0\n",
    "    lista_de_compras = [3, 5]\n",
    "    def dar_de_baja():\n",
    "        for index, value in enumerate(lista_de_compras):\n",
    "            print(f\"índice: {index}, costo: {value}\")\n",
    "            eliminar = int(input(\"escriba el índice que quiere eliminar\"))\n",
    "            lista_de_compras.remove(eliminar)\n",
    "    dar_de_baja()\n",
    "\n",
    "calcular_total_compra()"
   ]
  },
  {
   "cell_type": "code",
   "execution_count": 8,
   "id": "8a0fe3ba-1ed4-4fca-8fe2-1817243548bd",
   "metadata": {},
   "outputs": [
    {
     "name": "stdout",
     "output_type": "stream",
     "text": [
      "Index: 0, Value: 10\n",
      "Index: 1, Value: 20\n",
      "Index: 2, Value: 30\n",
      "Index: 3, Value: 40\n",
      "Index: 4, Value: 50\n"
     ]
    }
   ],
   "source": [
    "my_list = [10, 20, 30, 40, 50]\n",
    "\n",
    "for index, value in enumerate(my_list):\n",
    "    print(f\"Index: {index}, Value: {value}\")\n"
   ]
  }
 ],
 "metadata": {
  "kernelspec": {
   "display_name": "Python 3 (ipykernel)",
   "language": "python",
   "name": "python3"
  },
  "language_info": {
   "codemirror_mode": {
    "name": "ipython",
    "version": 3
   },
   "file_extension": ".py",
   "mimetype": "text/x-python",
   "name": "python",
   "nbconvert_exporter": "python",
   "pygments_lexer": "ipython3",
   "version": "3.11.4"
  }
 },
 "nbformat": 4,
 "nbformat_minor": 5
}
