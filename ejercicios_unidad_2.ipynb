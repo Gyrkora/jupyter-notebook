{
 "cells": [
  {
   "cell_type": "markdown",
   "id": "b6cb99b3-8986-45aa-ac53-929485f91bc3",
   "metadata": {},
   "source": [
    "<h1>Ejercicios de Unidad 2</h1>"
   ]
  },
  {
   "cell_type": "code",
   "execution_count": null,
   "id": "a5fd4f10-f638-4197-9c37-43c0bee42eb4",
   "metadata": {},
   "outputs": [],
   "source": [
    "\"\"\"\n",
    "\n",
    "Ejercicio 1 (Este es el ejercicio 2 de la unidad 1 pero implementando if/else\n",
    "Cree un programa que incorpore el módulo sys, al cual desde la terminal se le puedan\n",
    "pasar tres parámetros. El programa debe tomar los parámetros e indicar en la terminal si\n",
    "son múltiplos de dos. Utilice la estructura if/else\n",
    "\n",
    "\"\"\"\n",
    "\n",
    "\n",
    "import sys\n",
    "arg_1 = int(sys.argv[1])\n",
    "arg_2 = int(sys.argv[2])\n",
    "arg_3 = int(sys.argv[3])\n",
    "\n",
    "total = [arg_1, arg_2, arg_3]\n",
    "\n",
    "def multiplos_de_dos (num):\n",
    "    if num % 2 == 0:\n",
    "         print(f\"{num} es múltiplo de 2\")\n",
    "    else:\n",
    "        print(f\"{num} no es múltiplo de 2\")\n",
    "\n",
    "for multiplo in total:\n",
    "    print(multiplos_de_dos(multiplo))\n",
    "\n"
   ]
  },
  {
   "cell_type": "code",
   "execution_count": null,
   "id": "8e987496-dc6a-4150-8765-c4665813e0b9",
   "metadata": {},
   "outputs": [],
   "source": [
    "\"\"\"\n",
    "\n",
    "Ejercicio 2\n",
    "Cree una lista de frutas de 2 elementos, y realice un programa que muestre una oración\n",
    "conteniendo los dos elementos de la lista concatenándolos con texto para formar una\n",
    "oración con sentido. Presente el resultado en la terminal del editor.\n",
    "\n",
    "\"\"\"\n",
    "\n",
    "fruits = [ \"banana\", \"kiwi\" ]\n",
    "\n",
    "print(f\"me encanta el batido de {fruits[0]} con {fruits[1]}\")\n"
   ]
  },
  {
   "cell_type": "code",
   "execution_count": null,
   "id": "8bddc59a-114f-4b7d-85df-2f037d7ff52c",
   "metadata": {},
   "outputs": [],
   "source": [
    "\n",
    "\"\"\"\n",
    "Ejercicio 3\n",
    "Tome dos valores por consola, y guarde en una lista:\n",
    "[primer_valor, segundo_valor, la_sum\n",
    "Presente el resultado en la terminal del editor.\n",
    "\n",
    "\n",
    "\"\"\"\n",
    "\n",
    "persona1 = [\"Pepe\", 'Suarez', \"30\", \"1123454324\", \"300000\"]\n",
    "persona2 = [\"Ana\", 'Manriquez', \"20\", \"944929384\", \"350000\"]\n",
    "\n",
    "empleados = []\n",
    "empleados.append(\"1 item\")\n",
    "print(empleados)\n"
   ]
  },
  {
   "cell_type": "markdown",
   "id": "dabb2f3c-c2d5-460d-ae57-91716c2bb82a",
   "metadata": {},
   "source": [
    "<br>\n",
    "<h3>Ejercicio 5</h3>\n",
    "\n",
    "<p>Realice nuevamente los ejercicios 1 (3, 4 y 5), pero tratando de utilizar una función, de forma que la operación se realice dentro de la misma. Presente el resultado en la terminal del editor</p>\n",
    "<br>\n"
   ]
  },
  {
   "cell_type": "code",
   "execution_count": 2,
   "id": "5acc402b-de5a-421f-8c8b-10fec0a1216f",
   "metadata": {},
   "outputs": [
    {
     "name": "stdin",
     "output_type": "stream",
     "text": [
      "número de radio 40\n"
     ]
    },
    {
     "name": "stdout",
     "output_type": "stream",
     "text": [
      "el perímetro es 251.328\n"
     ]
    }
   ],
   "source": [
    "\"\"\" Ejercicio 3 Escriba un programa que solicite el radio de una circunferencia y permita calcular el perímetro. Presente el resultado en la terminal del editor \"\"\"\n",
    "\n",
    "r = int(input('número de radio'))\n",
    "π = 3.1416\n",
    "\n",
    "def perimeter_calc():\n",
    "    return 2 * π * r\n",
    "    \n",
    "\n",
    "print(f\"el perímetro es {perimeter_calc()}\")\n"
   ]
  },
  {
   "cell_type": "code",
   "execution_count": 5,
   "id": "29a7cbd5-500c-4e14-9830-5a99acbe1049",
   "metadata": {},
   "outputs": [
    {
     "name": "stdin",
     "output_type": "stream",
     "text": [
      "número de radio 40\n"
     ]
    },
    {
     "name": "stdout",
     "output_type": "stream",
     "text": [
      "el área es 5026.5599999999995\n"
     ]
    }
   ],
   "source": [
    "\"\"\" Ejercicio 4  Escriba un programa que solicite el radio de una circunferencia y permita calcular su área. Presente el resultado en la terminal del editor \"\"\"\n",
    "\n",
    "def area_calc():\n",
    "    return  3.1416 * int(input('número de radio')) ** 2\n",
    "\n",
    "print(f\"el área es {area_calc()}\")"
   ]
  },
  {
   "cell_type": "code",
   "execution_count": 14,
   "id": "8d21df79-7b86-407f-aeca-8480d2730ee8",
   "metadata": {},
   "outputs": [
    {
     "name": "stdin",
     "output_type": "stream",
     "text": [
      "número entero 4\n"
     ]
    },
    {
     "name": "stdout",
     "output_type": "stream",
     "text": [
      "el 4 + su 10% es = 4.4\n"
     ]
    }
   ],
   "source": [
    "\"\"\" Ejercicio 5  Escriba un programa que solicite un valor entero por pantalla y presente en la terminal del editor el valor incrementado en un 10% \"\"\"\n",
    "\n",
    "valor_entero = int(input(\"número entero\"))\n",
    "def int_value():\n",
    "    return valor_entero + (valor_entero * 10 / 100)\n",
    "\n",
    "print(f\"el {valor_entero} + su 10% es = {int_value()}\")"
   ]
  },
  {
   "cell_type": "code",
   "execution_count": null,
   "id": "bd8df608-47e6-415d-aaf3-177b17f10e18",
   "metadata": {},
   "outputs": [],
   "source": []
  }
 ],
 "metadata": {
  "kernelspec": {
   "display_name": "Python 3 (ipykernel)",
   "language": "python",
   "name": "python3"
  },
  "language_info": {
   "codemirror_mode": {
    "name": "ipython",
    "version": 3
   },
   "file_extension": ".py",
   "mimetype": "text/x-python",
   "name": "python",
   "nbconvert_exporter": "python",
   "pygments_lexer": "ipython3",
   "version": "3.11.4"
  }
 },
 "nbformat": 4,
 "nbformat_minor": 5
}
