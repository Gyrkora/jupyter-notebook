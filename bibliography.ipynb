{
 "cells": [
  {
   "cell_type": "markdown",
   "id": "0703913b-17a9-4d06-946c-04ca6a201a21",
   "metadata": {},
   "source": [
    "<h1>Bibliography</h1>\n",
    "\n",
    "<h2>Tkinter</h2>\n",
    "\n",
    "<h3>treeview</h3>\n",
    "<ul>\n",
    "    <li>https://www.plus2net.com/python/tkinter-treeview-insert.php</li>\n",
    "    \n",
    "</ul>"
   ]
  }
 ],
 "metadata": {
  "kernelspec": {
   "display_name": "Python 3 (ipykernel)",
   "language": "python",
   "name": "python3"
  },
  "language_info": {
   "codemirror_mode": {
    "name": "ipython",
    "version": 3
   },
   "file_extension": ".py",
   "mimetype": "text/x-python",
   "name": "python",
   "nbconvert_exporter": "python",
   "pygments_lexer": "ipython3",
   "version": "3.11.4"
  }
 },
 "nbformat": 4,
 "nbformat_minor": 5
}
