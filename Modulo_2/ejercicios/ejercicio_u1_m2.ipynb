{
 "cells": [
  {
   "cell_type": "code",
   "execution_count": null,
   "id": "0f4c29f3-b539-4058-b3ce-b26d9b4ab70e",
   "metadata": {},
   "outputs": [],
   "source": [
    "\"\"\" Ejercicio único\n",
    "\n",
    "Realizar una app utilizando Tkinter\n",
    "Características: la misma debe presentar dos botones\n",
    "\n",
    "1) El primero de alta de datos, debe permitir los \n",
    "valores de los campos de entrada y presentarlos en la consola \n",
    "\n",
    "2) El segundo debe permitir cambiar el color de fondo de la app\n",
    "\n",
    "\"\"\""
   ]
  },
  {
   "cell_type": "code",
   "execution_count": null,
   "id": "1912e8f0-de09-43c8-b208-032445e5b5c9",
   "metadata": {},
   "outputs": [],
   "source": []
  }
 ],
 "metadata": {
  "kernelspec": {
   "display_name": "Python 3 (ipykernel)",
   "language": "python",
   "name": "python3"
  },
  "language_info": {
   "codemirror_mode": {
    "name": "ipython",
    "version": 3
   },
   "file_extension": ".py",
   "mimetype": "text/x-python",
   "name": "python",
   "nbconvert_exporter": "python",
   "pygments_lexer": "ipython3",
   "version": "3.11.4"
  }
 },
 "nbformat": 4,
 "nbformat_minor": 5
}
