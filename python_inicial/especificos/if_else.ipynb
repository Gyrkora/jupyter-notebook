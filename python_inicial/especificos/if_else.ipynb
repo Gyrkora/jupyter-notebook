{
 "cells": [
  {
   "cell_type": "code",
   "execution_count": 10,
   "id": "09eea2a2-39a1-48ad-b42d-a9720af5a30c",
   "metadata": {},
   "outputs": [
    {
     "name": "stdout",
     "output_type": "stream",
     "text": [
      "5\n",
      "es menor a 11\n"
     ]
    }
   ],
   "source": [
    "import random \n",
    "\n",
    "resultado = 5 * random.randint(0, 5)\n",
    "\n",
    "print(resultado)\n",
    "\n",
    "if resultado < 11:\n",
    "    print(\"es menor a 11\")\n",
    "else:\n",
    "    print(\"es mayor a 11\")"
   ]
  },
  {
   "cell_type": "code",
   "execution_count": null,
   "id": "5a288489-cf80-4b4e-aebc-aa7602222485",
   "metadata": {},
   "outputs": [],
   "source": []
  }
 ],
 "metadata": {
  "kernelspec": {
   "display_name": "Python 3 (ipykernel)",
   "language": "python",
   "name": "python3"
  },
  "language_info": {
   "codemirror_mode": {
    "name": "ipython",
    "version": 3
   },
   "file_extension": ".py",
   "mimetype": "text/x-python",
   "name": "python",
   "nbconvert_exporter": "python",
   "pygments_lexer": "ipython3",
   "version": "3.11.4"
  }
 },
 "nbformat": 4,
 "nbformat_minor": 5
}
