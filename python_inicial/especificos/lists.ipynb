{
 "cells": [
  {
   "cell_type": "code",
   "execution_count": null,
   "id": "36672ff3-5702-4f33-bc03-42ace57542cf",
   "metadata": {},
   "outputs": [],
   "source": [
    "\n",
    "# Quick Examples of append items to list\n",
    "\n",
    "# Create lists\n",
    "fruits=['apple','mango','guava',]\n",
    "newfruits = ['grapes','orange']\n",
    "\n",
    "# Append items to list using +\n",
    "result = fruits + newfruits\n",
    "\n",
    "# Append list with new elements\n",
    "fruits.extend(['grapes','orange'])\n",
    "\n",
    "# Append list with tuple\n",
    "fruits.extend((\"pears\",\"custard-apple\"))\n",
    "\n",
    "# Append list with set\n",
    "fruits.extend({\"guava\",\"cherry\",\"mango\"})\n",
    "\n",
    "# Append list with dictionary keys\n",
    "fruits.extend({\"fruit1\":\"pine apple\",\"fruit2\":\"lemon\"})\n",
    "\n",
    "# Append list with dictionary values\n",
    "fruits.extend({\"fruit1\":\"pine apple\",\"fruit2\":\"lemon\"}.values())\n",
    "\n",
    "# Append list with string\n",
    "fruits.extend(\"papayya\")\n",
    "\n",
    "# Append list using slicing\n",
    "fruits[len(fruits):] = [\"guava\",\"cherry\",\"mango\"]\n",
    "\n",
    "# https://sparkbyexamples.com/python/python-append-multiple-items-to-list/#:~:text=To%20append%20or%20add%20multiple,the%20end%20of%20the%20list.\n"
   ]
  }
 ],
 "metadata": {
  "kernelspec": {
   "display_name": "Python 3 (ipykernel)",
   "language": "python",
   "name": "python3"
  },
  "language_info": {
   "codemirror_mode": {
    "name": "ipython",
    "version": 3
   },
   "file_extension": ".py",
   "mimetype": "text/x-python",
   "name": "python",
   "nbconvert_exporter": "python",
   "pygments_lexer": "ipython3",
   "version": "3.11.4"
  }
 },
 "nbformat": 4,
 "nbformat_minor": 5
}
