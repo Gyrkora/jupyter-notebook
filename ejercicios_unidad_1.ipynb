{
 "cells": [
  {
   "cell_type": "code",
   "execution_count": 6,
   "id": "8ce6fe59-6df1-4172-adb1-ac9cd0af70a9",
   "metadata": {},
   "outputs": [
    {
     "name": "stdout",
     "output_type": "stream",
     "text": [
      "['1 item']\n"
     ]
    }
   ],
   "source": [
    "persona1 = [\"Pepe\", 'Suarez', \"30\", \"1123454324\", \"300000\"]\n",
    "persona2 = [\"Ana\", 'Manriquez', \"20\", \"944929384\", \"350000\"]\n",
    "\n",
    "empleados = []\n",
    "empleados.append(\"1\")\n",
    "print(empleados)"
   ]
  },
  {
   "cell_type": "code",
   "execution_count": null,
   "id": "551afc17-bfc1-4763-afc2-fb5b58a42bba",
   "metadata": {},
   "outputs": [],
   "source": [
    "\n",
    "\"\"\" \n",
    "Ejercicio 1\n",
    "\n",
    "Cree un programa que tome tres valores por consola multiplique el primero por el segundo y súmele el tercero. Presente el resultado en la terminal del editor\n",
    "\n",
    " \"\"\"\n",
    "\n",
    "import sys\n",
    "valor1 = int(input('primer valor\\n'))\n",
    "valor2 = int(input('segundo valor\\n'))\n",
    "valor3 = int(input('tercer valor\\n'))\n",
    "\n",
    "operacion = valor1 * valor2 + valor3\n",
    "\n",
    "print(\n",
    "    f\"la suma multiplicación de valor1 y valor2 + el valor 3 es = {operacion}\")"
   ]
  },
  {
   "cell_type": "code",
   "execution_count": null,
   "id": "6adbb5a1-de4c-4cac-9a57-ed76fb861bba",
   "metadata": {},
   "outputs": [],
   "source": [
    "\"\"\"Ejercicio 2\n",
    "\n",
    "Cree un programa que incorpore el módulo sys, al cual desde la terminal se le puedan pasar tres parámetros. El programa debe tomar los parámetros e indicar en la terminal si son múltiplos de dos\n",
    "\n",
    " \"\"\"\n",
    "\n",
    "\n",
    "# py ejercicios_unidad_1.py arg1 arg2 arg3\n",
    "\n",
    "\n",
    "def multiple_of_two(num):\n",
    "    return num % 2 == 0\n",
    "\n",
    "\n",
    "arg_1 = int(sys.argv[1])\n",
    "arg_2 = int(sys.argv[2])\n",
    "arg_3 = int(sys.argv[3])\n",
    "\n",
    "\n",
    "print(multiple_of_two(arg_1))\n",
    "print(multiple_of_two(arg_2))\n",
    "print(multiple_of_two(arg_3))"
   ]
  },
  {
   "cell_type": "code",
   "execution_count": null,
   "id": "4202a397-f180-4d88-bc88-5fa52c55d58a",
   "metadata": {},
   "outputs": [],
   "source": [
    "\"\"\" Ejercicio 3\n",
    "\n",
    "\n",
    "Escriba un programa que solicite el radio de una circunferencia y permita calcular el perímetro. Presente el resultado en la terminal del editor\n",
    "\n",
    " \"\"\"\n",
    "\n",
    "r = int(input('número de radio'))\n",
    "π = 3.1416\n",
    "l = 2 * π * r\n",
    "\n",
    "print(f\"el perímetro es {l}\")\n",
    "\n",
    "\n",
    "\"\"\" def calcular_perimetro(r):\n",
    "    return 2 * π * int(input('número de radio'))\n",
    "\n",
    "print(f\"el perímetro es {calcular_perimetro()}\") \"\"\""
   ]
  },
  {
   "cell_type": "code",
   "execution_count": null,
   "id": "8f29b929-cdf8-4404-8f01-eec5613a035a",
   "metadata": {},
   "outputs": [],
   "source": [
    "\n",
    "\"\"\" Ejercicio 4 \n",
    "\n",
    "\n",
    "Escriba un programa que solicite el radio de una circunferencia y permita calcular su área. Presente el resultado en la terminal del editor\n",
    "\n",
    "\"\"\"\n",
    "\n",
    "r = int(input('número de radio'))\n",
    "π = 3.1416\n",
    "a = π * r ** 2\n",
    "\n",
    "print(f\"el área ] es {a}\")"
   ]
  },
  {
   "cell_type": "code",
   "execution_count": null,
   "id": "64ec040e-591a-4e06-895f-fbb602102f74",
   "metadata": {},
   "outputs": [],
   "source": [
    "\n",
    "\"\"\" Ejercicio 5 \n",
    "\n",
    "Escriba un programa que solicite un valor entero por pantalla y presente en la terminal del editor el valor incrementado en un 10%\n",
    "\n",
    " \"\"\"\n",
    "\n",
    "valor_entero = int(input(\"número entero\"))\n",
    "operacion = round(valor_entero + ((valor_entero * 10) / 100))\n",
    "\n",
    "print(f\"el {valor_entero} + su 10% es = {operacion}\")"
   ]
  },
  {
   "cell_type": "markdown",
   "id": "6f180dec-1293-4860-bcc2-eef3b10f1b78",
   "metadata": {},
   "source": [
    "<h4>Bibliografia< https://cursos.utnba.centrodeelearning.com/pluginfile.php/181360/mod_book/chapter/23575/Ejercicios.pdf"
   ]
  }
 ],
 "metadata": {
  "kernelspec": {
   "display_name": "Python 3 (ipykernel)",
   "language": "python",
   "name": "python3"
  },
  "language_info": {
   "codemirror_mode": {
    "name": "ipython",
    "version": 3
   },
   "file_extension": ".py",
   "mimetype": "text/x-python",
   "name": "python",
   "nbconvert_exporter": "python",
   "pygments_lexer": "ipython3",
   "version": "3.11.4"
  }
 },
 "nbformat": 4,
 "nbformat_minor": 5
}
