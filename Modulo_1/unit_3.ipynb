{
 "cells": [
  {
   "cell_type": "markdown",
   "id": "86c76678-6b24-4b8b-b97b-489e8808396d",
   "metadata": {},
   "source": [
    "<h1>Unidad 3</h1>\n",
    "\n",
    "<h2>Tuples</h2>\n",
    "\n",
    "<h3>Diferencias entre tuples y lists</h3>\n",
    "\n",
    "<p style=\"margin: 2px\n",
    "\">Las Tuplas son inmutables, mientras que las Listas son mutables \n",
    "Las tuplas en Python son inmutables, lo que significa que una vez creada una tupla, sus elementos no pueden cambiar \n",
    "\r\n",
    "Las tuplas no pueden ser alteradas</p\n",
    "\n",
    "<ul>\n",
    "    <li>\n",
    "        Tuple is an immutable sequence in python.nt.\n",
    "   lii\n",
    "     <li>\n",
    "    It cannot be changed or replaced since it is immutable.\n",
    "    </li>\n",
    "     <li>\n",
    "    It is defined under parenthesis().\n",
    "    </li>\n",
    "      <li>\n",
    "       Tuples can store any type of element.\n",
    "    </li>\n",
    "    st>\n",
    "</ul>>"
   ]
  },
  {
   "cell_type": "code",
   "execution_count": 1,
   "id": "af0ffaa6-e0b8-46b6-9832-9bcbd24cb933",
   "metadata": {},
   "outputs": [
    {
     "name": "stdout",
     "output_type": "stream",
     "text": [
      "mi lista1\n",
      "primer elemento list 1\n",
      "mi tuple ['1', 1, True]\n",
      "mi primer elemnto tuple 1\n"
     ]
    }
   ],
   "source": [
    "mi_list = ['1', 1, True ]\n",
    "print('mi lista'  + mi_list[0])\n",
    "print('primer elemento list', mi_list[0])\n",
    "\n",
    "\n",
    "my_tuple = ['1', 1, True ]\n",
    "print('mi tuple' , my_tuple)\n",
    "\n",
    "print('mi primer elemnto tuple' ,my_tuple[0])"
   ]
  },
  {
   "cell_type": "markdown",
   "id": "94174a65-dccc-4505-9711-f07b4158d489",
   "metadata": {},
   "source": [
    "<h3>¿Cómo saber los id?</h3>"
   ]
  },
  {
   "cell_type": "code",
   "execution_count": 11,
   "id": "d909e32a-434b-400e-b554-933b4e467cba",
   "metadata": {},
   "outputs": [
    {
     "name": "stdout",
     "output_type": "stream",
     "text": [
      "2157152788096\n",
      "2157152671296\n"
     ]
    }
   ],
   "source": [
    "\n",
    "mi_list = ['1', 1, True ]\n",
    "my_tuple = ('1', 1, True )\n",
    "\n",
    "\n",
    "print(id(mi_list))\n",
    "print(id(my_tuple))"
   ]
  },
  {
   "cell_type": "markdown",
   "id": "a5ff455b-c820-4ea4-8b4e-f44bb815697f",
   "metadata": {},
   "source": [
    "\n",
    "<h3>Los id's mutan y no</h3>\n",
    "<p>el id de las tuplas cambian porque no son los mismos elementos, en cambio las listas, al ser mutables, conservan su id</p>"
   ]
  },
  {
   "cell_type": "code",
   "execution_count": 10,
   "id": "2ff374ef-1c2a-41bb-befc-8ccfdad1d407",
   "metadata": {},
   "outputs": [
    {
     "name": "stdout",
     "output_type": "stream",
     "text": [
      "an list 2157152644544\n",
      "dp list 2157152644544\n",
      "an tuple 2157152671296\n",
      "dp tuple 2157152310176\n"
     ]
    }
   ],
   "source": [
    "\n",
    "mi_list = ['1', 1, True ]\n",
    "\n",
    "my_tuple = ('1', 1, True )\n",
    "\n",
    "print(\"an list\", id(mi_list))\n",
    "mi_list += [3, 4]\n",
    "print(\"dp list\", id(mi_list))\n",
    "\n",
    "print(\"an tuple\", id(my_tuple))\n",
    "my_tuple += (3, 4) # no se puede modificar un tuple\n",
    "print(\"dp tuple\", id(my_tuple))\n",
    "# print(id(my_tuple))\n"
   ]
  },
  {
   "cell_type": "markdown",
   "id": "99c9de3b-329b-4f88-88b9-ea2dde92ae7e",
   "metadata": {},
   "source": [
    "<h3>Agregar elementos a tuples</h3>"
   ]
  },
  {
   "cell_type": "code",
   "execution_count": 14,
   "id": "b9197f83-54cf-4069-b978-9797d344d2d4",
   "metadata": {},
   "outputs": [
    {
     "name": "stdout",
     "output_type": "stream",
     "text": [
      "separado = (('1', 1, True), ('3', 2, False))\n",
      "includo = ('1', 1, True, '3', 2, False)\n"
     ]
    }
   ],
   "source": [
    "my_tuple = ('1', 1, True )\n",
    "my_tuple2 = ('3', 2, False )\n",
    "my_tuple3 = my_tuple, my_tuple2\n",
    "print('separado =', my_tuple3)\n",
    "my_tuple4 = my_tuple + my_tuple2\n",
    "print('includo =',my_tuple4)"
   ]
  },
  {
   "cell_type": "markdown",
   "id": "27b11f5e-e48d-4ff6-a7e8-bfed373fb705",
   "metadata": {},
   "source": [
    "<h3>Encontrar o identificar elementos</h3>"
   ]
  },
  {
   "cell_type": "code",
   "execution_count": null,
   "id": "1178061d-5db9-4e3b-9d77-9cbd5e894702",
   "metadata": {},
   "outputs": [],
   "source": [
    "my_tuple = ('1', 1, True )\n",
    "my_tuple2 = ('3', \"1\", False )\n",
    "my_tuple3 = my_tuple, my_tuple2\n",
    "my_tuple4 = my_tuple + my_tuple2\n",
    "\n",
    "\n",
    "print(type(my_tuple4[1]))\n",
    "print(my_tuple4.index('1'))\n",
    "print(my_tuple4.count('1'))"
   ]
  },
  {
   "cell_type": "markdown",
   "id": "8f97521a-3620-4fb6-be8c-2a3fd75e0af6",
   "metadata": {},
   "source": [
    "<h2>Conclusión</h2>\n",
    "\r",
    "<p> Para recapitular, las similitudes entre tuplas y listas son:\r\n",
    "\r\n",
    "Son considerados objetos (instancias de una clase).\r\n",
    "Son contenedores de colecciones de datos, pudiendo ser estos de cualquier tipo.\r\n",
    "Son colecciones ordenadas, mantienendo siempre ese orden. Una vez que se ha definido el orden de los elementos, ya no cambiará. Esto puede parecer contradictorio en el caso de las listas. Una tupla mantiene su orden desde el mismo momento en que se crea, no pudiendo alterarlo el programador. En una lista podemos cambiar el orden, pero una vez establecido ese nuevo orden, se garantiza que se mantendrá hasta que decidamos volver a cambiarlo. Esta es una característica que no se garantiza, por ejemplo, en el caso de los diccionarios.\r\n",
    "Tanto en tuplas como en listas puedes acceder a un elemento en particular mediante su índice.\r\n",
    "Las diferencias entre tuplas y listas son:\r\n",
    "\r\n",
    "Una tupla es inmutable. Úsalas cuando sepas con seguridad que tus datos no van a variar durante el ciclo de vida del programa o cuando quieras garantizar que se mantendrán constantes.\r\n",
    "Una lista es mutable. Se puede añadir o eliminar elementos. Las listas crecen y decrecen durante la vida del programa. Úsalas cuando tus datos, por su propia naturaleza, sean susceptibles de variar.\n",
    "</p>"
   ]
  },
  {
   "cell_type": "markdown",
   "id": "7f755f01-e65f-407e-adf0-139a93e29b4f",
   "metadata": {},
   "source": [
    "<h2>Set</h2>\n",
    "\n",
    "<p>unordered collections of unique elements</p>"
   ]
  },
  {
   "cell_type": "code",
   "execution_count": 15,
   "id": "2adfbfda-be00-4bf9-82b7-4dfd2097d4b1",
   "metadata": {},
   "outputs": [
    {
     "name": "stdout",
     "output_type": "stream",
     "text": [
      "[1, 2, 3, 3]\n",
      "{1, 2, 3}\n",
      "[1, 2, 3]\n"
     ]
    }
   ],
   "source": [
    "set1  = {1, 2, 3}\n",
    "# print(set1)\n",
    "# print(type(set1))\n",
    "\n",
    "mi_lista1 = [1,2,3, 3]\n",
    "print(mi_lista1)\n",
    "#quiero eliminar elementos\n",
    "set2 =  set(mi_lista1)\n",
    "print(set2)\n",
    "#transformar de nuevo\n",
    "mi_lista1 = list(set2)\n",
    "# se eliminaron los elementos repetidos\n",
    "print(mi_lista1) "
   ]
  },
  {
   "cell_type": "markdown",
   "id": "5cbef4ea-0357-4767-8108-983f51b785fc",
   "metadata": {},
   "source": [
    "<h3>Comparandos sets</h3>"
   ]
  },
  {
   "cell_type": "code",
   "execution_count": 16,
   "id": "87cee83f-045d-4648-ba87-5a4db716af5c",
   "metadata": {},
   "outputs": [
    {
     "name": "stdout",
     "output_type": "stream",
     "text": [
      "{1, 2, 3, 4, 5, 6}\n",
      "{1, 2, 3, 4, 5, 6, 7, 10, 59}\n",
      "{10, 7}\n",
      "False\n"
     ]
    }
   ],
   "source": [
    "set1 = {1,2,3,4,5,6,7, 6}\n",
    "set2 = {1,2,3,4,5,6,7, 7, 10, 2}\n",
    "set3 = {1,2,3, 3, 4,5,6, 3 ,3,59}\n",
    "\n",
    "#para intersección utilizo el &\n",
    "print(set2 & set3)\n",
    "\n",
    "#para unión\n",
    "print(set2 | set3)\n",
    "\n",
    "#para diferenciar\n",
    "print(set2 - set3)\n",
    "\n",
    "#el elemento dos tiene todos los elementos del set 3? false\n",
    "print(set2 > set3)\n",
    "\n",
    "#true\n",
    "# set2 = {1,2,3,4,5,6,7, 7, 10, 2, 59}"
   ]
  },
  {
   "cell_type": "markdown",
   "id": "83a0cd7c-f4fc-43aa-8d9b-e62b8848954c",
   "metadata": {},
   "source": [
    "<h3>Chat GPT code explanation</h3>\n",
    "\n",
    "This code snippet demonstrates the basic operations you can perform with sets in Python, which are unordered collections of unique elements. Here's an explanation of each part of the code:\r\n",
    "\r\n",
    "```python\r\n",
    "set1 = {1, 2, 3, 4, 5, 6, 7, 6}\r\n",
    "set2 = {1, 2, 3, 4, 5, 6, 7, 7, 10, 2}\r\n",
    "set3 = {1, 2, 3, 3, 4, 5, 6, 3, 3, 59}\r\n",
    "```\r\n",
    "\r\n",
    "In this part, three sets (`set1`, `set2`, and `set3`) are defined. Sets in Python automatically remove duplicate elements, so even though duplicates are present in the initial declarations, only unique elements are stored in each set.\r\n",
    "\r\n",
    "```python\r\n",
    "print(set2 & set3)\r\n",
    "```\r\n",
    "\r\n",
    "The `&` operator is used to find the intersection of two sets. It returns a new set that contains only the elements that are common to both `set2` and `set3`. In this case, the output will be `{1, 2, 3, 4, 5, 6, 7}`.\r\n",
    "\r\n",
    "```python\r\n",
    "print(set2 | set3)\r\n",
    "```\r\n",
    "\r\n",
    "The `|` operator is used to find the union of two sets. It returns a new set that contains all the elements from both `set2` and `set3`, without any duplicates. In this case, the output will be `{1, 2, 3, 4, 5, 6, 7, 10, 59}`.\r\n",
    "\r\n",
    "```python\r\n",
    "print(set2 - set3)\r\n",
    "```\r\n",
    "\r\n",
    "The `-` operator is used to find the difference between two sets. It returns a new set that contains elements that are present in `set2` but not in `set3`. In this case,  output will be `{10, 7, 2}`.\r\n",
    "\r\n",
    "```python\r\n",
    "print(set2 > set3)\r\n",
    "```\r\n",
    "\r\n",
    "The `>` operator is used to check if one set is a superset of another set. It returns `True` if `set2` contains all the elements of `set3`, otherwise, it returns `False`. In this case, the output will be `False` since not all elements in `set3` are in `set2`.\r\n",
    "\r\n",
    "In summary, this code demonstrates the intersection, union, and difference operations between sets, as well as how to check if one set is a superset of another set."
   ]
  },
  {
   "cell_type": "code",
   "execution_count": 19,
   "id": "287ffa34-566b-4b43-8737-1723de1c7835",
   "metadata": {},
   "outputs": [
    {
     "name": "stdout",
     "output_type": "stream",
     "text": [
      "estos socios vinieron a los dos clubes esta semana {'Juan', 'Pedro', 'Ana'}\n",
      "<class 'set'>\n"
     ]
    }
   ],
   "source": [
    "socios = ['Juan', 'Pedro', 'Ana', 'Susana', 'Pablo']\n",
    "ajedrez = ['Juan', 'Pedro', 'Ana', 'Susana']\n",
    "natacion = ['Juan', 'Pedro', 'Ana', 'Pablo']\n",
    "resultado = set(ajedrez).intersection(set(natacion))\n",
    "print('estos socios vinieron a los dos clubes esta semana',resultado) #quiénes vinieron esta semana al club\n",
    "print(type(resultado))"
   ]
  },
  {
   "cell_type": "markdown",
   "id": "0b06ed3e-f5e7-4efe-95c8-f763782b7fc5",
   "metadata": {},
   "source": [
    "<h2>Formatos de salida</h2>"
   ]
  },
  {
   "cell_type": "code",
   "execution_count": 7,
   "id": "7c21a220-c482-4855-af04-702704356974",
   "metadata": {},
   "outputs": [
    {
     "name": "stdout",
     "output_type": "stream",
     "text": [
      "los tres valores separados =  True pera 4\n",
      "primer valor y luego todos los que sobran en una list =  True ['pera', 4]\n",
      "P ['e', 'r', 'r', 'o', ' ', 'y', ' ', 'g', 'a', 't', 'o']\n",
      "11\n"
     ]
    }
   ],
   "source": [
    "#Formato de salida de datos\n",
    "\n",
    "entero1 = 2\n",
    "entero2 = 21\n",
    "list1 =[ True, 'pera', 4]\n",
    "\n",
    "# separación de elementos\n",
    "# print(entero1, entero2, list1, sep=\" , \" , end=\"--\")\n",
    "\n",
    "# separete variables for each value inside a list\n",
    "val1, val2, val3 = list1\n",
    "val1, val2, val3 = [ True, 'pera', 4]\n",
    "\n",
    "print(\"los tres valores separados = \",val1, val2, val3)\n",
    "\n",
    "# assign one of the values from a list and then create another list with the rest\n",
    "val0, *val_rest = list1\n",
    "print(\"primer valor y luego todos los que sobran en una list = \",val0, val_rest)\n",
    "\n",
    "\n",
    "# usando strings\n",
    "a, *b = \"Perro y gato\"\n",
    "print(a, b)\n",
    "print(len(b))"
   ]
  },
  {
   "cell_type": "markdown",
   "id": "9ef9a9ff-e2aa-4001-9905-5631ad7ccbe8",
   "metadata": {},
   "source": [
    "<h3>Ejemplo como base de datos usando pprint</h3>"
   ]
  },
  {
   "cell_type": "code",
   "execution_count": 14,
   "id": "39b3cb35-b1ea-44fc-951b-6e0cd51c25f4",
   "metadata": {},
   "outputs": [
    {
     "name": "stdout",
     "output_type": "stream",
     "text": [
      "print normal {'anna': {'identification': {'name': 'Anna', 'lastname': 'Tapia'}, 'age': 50, 'city': 'London', 'country': 'UK'}, 'josefa': {'identification': {'name': 'Josefa', 'lastname': 'Rodriguez'}, 'age': 43, 'city': 'Bogotá', 'country': 'Colombia'}}\n",
      "---------------------------------------------------------------------\n",
      "{'anna': {'age': 50,\n",
      "          'city': 'London',\n",
      "          'country': 'UK',\n",
      "          'identification': {'lastname': 'Tapia', 'name': 'Anna'}},\n",
      " 'josefa': {'age': 43,\n",
      "            'city': 'Bogotá',\n",
      "            'country': 'Colombia',\n",
      "            'identification': {'lastname': 'Rodriguez', 'name': 'Josefa'}}}\n"
     ]
    }
   ],
   "source": [
    "import pprint\n",
    "\n",
    "\n",
    "anna = { \n",
    "\n",
    "\"identification\": { \"name\": \"Anna\", \"lastname\" : 'Tapia'\n",
    "},\n",
    "\n",
    "\"age\": 50,\n",
    "\"city\":\"London\",\n",
    "\"country\":\"UK\"\n",
    "\n",
    "}\n",
    "\n",
    "josefa = { \n",
    "\n",
    "\"identification\": { \"name\": \"Josefa\", \"lastname\" : 'Rodriguez'\n",
    "},\n",
    "\n",
    "\"age\": 43,\n",
    "\"city\":\"Bogotá\",\n",
    "\"country\":\"Colombia\"\n",
    "\n",
    "}\n",
    "\n",
    "# print(anna,  josefa)\n",
    "db = {}\n",
    "\n",
    "db[\"anna\"] = anna\n",
    "db[\"josefa\"] = josefa\n",
    "print(\"print normal\",db)\n",
    "\n",
    "print(\"---\"*23)\n",
    "\n",
    "pprint.pprint(db)"
   ]
  },
  {
   "cell_type": "code",
   "execution_count": 20,
   "id": "92d75bea-3ae7-45b6-98b4-ccff322193d1",
   "metadata": {},
   "outputs": [
    {
     "name": "stdout",
     "output_type": "stream",
     "text": [
      "el 1.34246543 va a ser impreso de la siguiente forma: 1.34\n",
      "este es el primer caso 1.34246543 luego el segundo seria 22\n"
     ]
    }
   ],
   "source": [
    "# limitar la cantidad de digitos\n",
    "edad = 22\n",
    "valor = 1.34246543\n",
    "\n",
    "print(f\"el {valor} va a ser impreso de la siguiente forma: {valor:.2f}\")\n",
    "print(\"este es el primer caso {0} luego el segundo seria {1}\".format(valor, edad))"
   ]
  },
  {
   "cell_type": "markdown",
   "id": "9cbec4b4-fb44-482a-b22a-a71a36163d02",
   "metadata": {},
   "source": [
    "<!-- <iframe width=  100%  height = 1500px src=\"https://www.geeksforgeeks.org/python-output-formatting\"></iframe> -->\n",
    "\n",
    "<body>\r\n",
    "   <iframe src=http://bcd.website.com0' />\r\n",
    "</body>dy"
   ]
  },
  {
   "cell_type": "markdown",
   "id": "d4e73d48-5625-4c48-89fc-7ca5b325524f",
   "metadata": {},
   "source": [
    "<h2>datetime</h2>"
   ]
  },
  {
   "cell_type": "code",
   "execution_count": 1,
   "id": "2f53300a-c755-49e1-9c48-4204ea7880ba",
   "metadata": {},
   "outputs": [
    {
     "name": "stdout",
     "output_type": "stream",
     "text": [
      "Current Date and Time: 2023-08-14 13:58:29.361262\n",
      "Year: 2023\n",
      "Month: 8\n",
      "Day: 14\n",
      "Hour: 13\n",
      "Minute: 58\n",
      "Second: 29\n",
      "Microsecond: 361262\n",
      "Formatted Date and Time: 2023-08-14 13:58:29\n"
     ]
    }
   ],
   "source": [
    "from datetime import datetime\n",
    "\n",
    "# Get the current date and time\n",
    "current_datetime = datetime.now()\n",
    "\n",
    "# Print the current date and time\n",
    "print(\"Current Date and Time:\", current_datetime)\n",
    "\n",
    "# Extract and print individual components\n",
    "print(\"Year:\", current_datetime.year)\n",
    "print(\"Month:\", current_datetime.month)\n",
    "print(\"Day:\", current_datetime.day)\n",
    "print(\"Hour:\", current_datetime.hour)\n",
    "print(\"Minute:\", current_datetime.minute)\n",
    "print(\"Second:\", current_datetime.second)\n",
    "print(\"Microsecond:\", current_datetime.microsecond)\n",
    "\n",
    "# Format the current date and time as a string\n",
    "formatted_date_time = current_datetime.strftime(\"%Y-%m-%d %H:%M:%S\")\n",
    "print(\"Formatted Date and Time:\", formatted_date_time)"
   ]
  },
  {
   "cell_type": "markdown",
   "id": "67a6e800-56b3-4e87-8f50-0848a68fa94f",
   "metadata": {},
   "source": [
    "<h2>While Loop</h2>"
   ]
  },
  {
   "cell_type": "code",
   "execution_count": 2,
   "id": "541a9e07-dda7-4df0-b044-d517eeac3f2a",
   "metadata": {},
   "outputs": [
    {
     "name": "stdout",
     "output_type": "stream",
     "text": [
      "curso reducida curso\n",
      "curso reducida urso\n",
      "curso reducida rso\n",
      "curso reducida so\n",
      "curso reducida o\n",
      "------------------------------\n",
      "a aumentada 1\n",
      "a aumentada 2\n",
      "a aumentada 3\n",
      "a aumentada 4\n",
      "a aumentada 5\n",
      "a aumentada 6\n",
      "------------------------------\n",
      "list1 reemplazada 1 [2, 3, 4]\n",
      "list1 reemplazada 2 [3, 4]\n",
      "list1 reemplazada 3 [4]\n",
      "list1 reemplazada 4 []\n"
     ]
    }
   ],
   "source": [
    "x = \"curso\"\n",
    "\n",
    "while x: \n",
    "    print(\"curso reducida\", x)\n",
    "    # reducción de x\n",
    "    x = x[1:]\n",
    "\n",
    "\n",
    "print(\"---\" *10)\n",
    "\n",
    "a = 1\n",
    "b = 7\n",
    "\n",
    "while a < b:\n",
    "    print(\"a aumentada\",a)\n",
    "    a += 1\n",
    "\n",
    "\n",
    "print(\"---\" *10)\n",
    "\n",
    "\n",
    "list1 = [1, 2, 3,4]\n",
    "\n",
    "while list1:\n",
    "    c, *list1 = list1\n",
    "    print(\"list1 reemplazada\", c, list1)\n"
   ]
  },
  {
   "cell_type": "markdown",
   "id": "49fdd96c-ad0d-4c7e-a61e-3cc9179f68d8",
   "metadata": {},
   "source": [
    "<h3>Break y continue</h3>"
   ]
  },
  {
   "cell_type": "code",
   "execution_count": 3,
   "id": "d044e709-e717-480a-a559-64263b522a58",
   "metadata": {},
   "outputs": [
    {
     "name": "stdout",
     "output_type": "stream",
     "text": [
      "1\n",
      "--- se imprime pq a es igual a 2\n",
      "2\n",
      "3\n",
      "4\n",
      "5\n"
     ]
    }
   ],
   "source": [
    "a = 1\n",
    "b = 7\n",
    "\n",
    "while a < b:\n",
    "    print(a)       \n",
    "   \n",
    "    a += 1\n",
    "\n",
    "    if a > 5:\n",
    "        break\n",
    "    if a > 2:\n",
    "        continue\n",
    "\n",
    "    #acá imprime pq el a es igual a 2 entonces se cumple la declaración\n",
    "    print(\"--- se imprime pq a es igual a\", a)"
   ]
  },
  {
   "cell_type": "markdown",
   "id": "9e993ac4-c1e6-48ec-84fd-4a83c26a42f8",
   "metadata": {},
   "source": [
    "<h2>For loops</h2>"
   ]
  },
  {
   "cell_type": "code",
   "execution_count": 1,
   "id": "2aa45fc8-8d1c-4250-96c9-96309eacb6dc",
   "metadata": {},
   "outputs": [
    {
     "name": "stdout",
     "output_type": "stream",
     "text": [
      "enter one number==>1\n"
     ]
    },
    {
     "name": "stdin",
     "output_type": "stream",
     "text": [
      " 4\n"
     ]
    },
    {
     "name": "stdout",
     "output_type": "stream",
     "text": [
      "a: 1\n",
      "par\n",
      "{4: 'es par'}\n",
      "enter one number==>2\n"
     ]
    },
    {
     "name": "stdin",
     "output_type": "stream",
     "text": [
      " 3\n"
     ]
    },
    {
     "name": "stdout",
     "output_type": "stream",
     "text": [
      "a: 2\n",
      "impar\n",
      "{3: 'es impar'}\n",
      "enter one number==>3\n"
     ]
    },
    {
     "name": "stdin",
     "output_type": "stream",
     "text": [
      " 2\n"
     ]
    },
    {
     "name": "stdout",
     "output_type": "stream",
     "text": [
      "a: 3\n",
      "par\n",
      "{2: 'es par'}\n",
      "enter one number==>4\n"
     ]
    },
    {
     "name": "stdin",
     "output_type": "stream",
     "text": [
      " 4\n"
     ]
    },
    {
     "name": "stdout",
     "output_type": "stream",
     "text": [
      "a: 4\n",
      "par\n",
      "{4: 'es par'}\n",
      "enter one number==>5\n"
     ]
    },
    {
     "name": "stdin",
     "output_type": "stream",
     "text": [
      " 6\n"
     ]
    },
    {
     "name": "stdout",
     "output_type": "stream",
     "text": [
      "a: 5\n",
      "par\n",
      "{6: 'es par'}\n",
      "{0: 4, 1: 3, 2: 2, 3: 4, 4: 6}\n",
      "{0: 'es par', 1: 'es impar', 2: 'es par', 3: 'es par', 4: 'es par'}\n",
      "{0: 'el numero 4 es: es par', 1: 'el numero 3 es: es impar', 2: 'el numero 2 es: es par', 3: 'el numero 4 es: es par', 4: 'el numero 6 es: es par'}\n",
      "el numero 4 es: es par\n",
      "el numero 3 es: es impar\n",
      "el numero 2 es: es par\n",
      "el numero 4 es: es par\n",
      "el numero 6 es: es par\n"
     ]
    }
   ],
   "source": [
    "# fruta = \"manzana\"\n",
    "\n",
    "# for x in fruta:\n",
    "#     print(x)\n",
    "\n",
    "\n",
    "# frutas = [\"manzanas\", \"pera\"]\n",
    "\n",
    "# for x in frutas[0]:\n",
    "#     print(x)\n",
    "\n",
    "\n",
    "# print(\"la length de frutas es\",len(frutas[0]))\n",
    "\n",
    "# for fruta in frutas:\n",
    "#     print(fruta)\n",
    "\n",
    "# range()\n",
    "# for x in range(0, 5):\n",
    "#     if x == 3:\n",
    "#         continue\n",
    "#     print(x)\n",
    "\n",
    "\n",
    "#Con diccionarios\n",
    "\n",
    "mi_diccionario = {}\n",
    "mi_diccionario2 = {}\n",
    "mi_diccionario3 = {}\n",
    "\n",
    "times = 5\n",
    "\n",
    "for e in range(0, times):\n",
    "    a = str(e+1)\n",
    "    print(f'{\"enter one number\"}==>{a}')\n",
    "    b = int(input())\n",
    "    print(\"a:\", a)\n",
    "\n",
    "    if b %2 ==0:\n",
    "        print(\"par\")\n",
    "        cond = \"es par\"\n",
    "\n",
    "    else:\n",
    "        print('impar')\n",
    "        cond =\"es impar\"\n",
    "\n",
    "    diccionario = {b:cond}\n",
    "\n",
    "    print(diccionario)\n",
    "    mi_diccionario[e] = b\n",
    "    mi_diccionario2[e] = cond\n",
    "    mi_diccionario3[e] = \"el numero \" + str(b) + \" es: \" + cond\n",
    "\n",
    "\n",
    "print(mi_diccionario)\n",
    "print(mi_diccionario2)\n",
    "print(mi_diccionario3)\n",
    "\n",
    "for x in mi_diccionario3:\n",
    "    print(mi_diccionario3[x])"
   ]
  },
  {
   "cell_type": "markdown",
   "id": "c1515531-770f-431a-bced-640d7f5944bb",
   "metadata": {},
   "source": [
    "<h2>Funciones</h2>"
   ]
  },
  {
   "cell_type": "code",
   "execution_count": 1,
   "id": "c84044e2-7a4c-408a-9a7b-076aad2be057",
   "metadata": {},
   "outputs": [
    {
     "name": "stdout",
     "output_type": "stream",
     "text": [
      "<generator object contador_yield at 0x000001FFE3A68040>\n",
      "desde 0\n",
      "0\n",
      "desde 1\n",
      "1\n",
      "desde 2\n",
      "2\n",
      "3\n"
     ]
    }
   ],
   "source": [
    "\n",
    "# def suma(a, b):\n",
    "#     c = a + b\n",
    "#     return a, b, c\n",
    "\n",
    "# d, f, g = suma(2, 4)\n",
    "# print(d, f, g) \n",
    "\n",
    "\n",
    "#ver elementos repetidos a travésde input\n",
    "# list_of_elements = [1, 1, 1, 2, 3, 4, 3, 3, 5, 5]\n",
    "\n",
    "# def repetead(element, list_elements):\n",
    "#     veces = 0\n",
    "\n",
    "#     for i in list_elements: \n",
    "#         if element== i:\n",
    "#             veces += 1\n",
    "\n",
    "#     return veces\n",
    "    \n",
    "\n",
    "# print(repetead(1, list_of_elements))\n",
    "\n",
    "def contador_yield(max):\n",
    "    n = 0\n",
    "    while n < max:\n",
    "        yield n\n",
    "        n+=1\n",
    "\n",
    "d = contador_yield(5)\n",
    "print(d)\n",
    "print(\"desde 0\")\n",
    "print(next(d))\n",
    "print(\"desde 1\")\n",
    "print(next(d))\n",
    "print(\"desde 2\")\n",
    "print(next(d))\n",
    "print(next(d))\n",
    "\n",
    "\n",
    "#yield explaind: https://www.geeksforgeeks.org/use-yield-keyword-instead-return-keyword-python/\n",
    "\n",
    "\n"
   ]
  },
  {
   "cell_type": "code",
   "execution_count": 1,
   "id": "5f902384-b1d2-49ca-b4b7-af33a1ba7abd",
   "metadata": {},
   "outputs": [
    {
     "name": "stdout",
     "output_type": "stream",
     "text": [
      "hola\n",
      "hl\n",
      "hl ooets\n",
      "satse omoc aloh\n",
      "steoo lh\n"
     ]
    }
   ],
   "source": [
    "#Si partís de la palabra \"hola\" en tu código pones:\n",
    "frase=\"hola como estas\"\n",
    " \n",
    "\n",
    "resultado = lambda contardereves : frase [0:4:1]\n",
    "print(resultado(frase))\n",
    "#Va de la posición cero a la cuatro sin incluirla de a un paso por lo que retorna: hola\n",
    "resultado = lambda contardereves : frase [0:4:2]\n",
    "print(resultado(frase))\n",
    "#Va de la posición cero a la cuatro sin incluirla de a dos pasos por lo que retorna: hl\n",
    "resultado = lambda contardereves : frase [::2]   \n",
    "print(resultado(frase))\n",
    "#Es igual que el anterior pues al no considerar los valores en inicio y fin,\n",
    "#  toma el primero y el último \n",
    "resultado = lambda contardereves : frase [-1::-1]\n",
    "print(resultado(frase))\n",
    "#Va de la posición -1 (que es la última) y no está especificado el fin\n",
    "#  y lo hace hacía atrás (-1) por lo que retorna: satse omoc aloh\n",
    "resultado = lambda contardereves : frase [-1::-2]\n",
    "print(resultado(frase))\n",
    "#Va de la posición -1 (que es la última) y no está especificado\n",
    "#  el fin y lo hace hacía atrás de a dos (-2) por lo que retorna: steoo lh"
   ]
  }
 ],
 "metadata": {
  "kernelspec": {
   "display_name": "Python 3 (ipykernel)",
   "language": "python",
   "name": "python3"
  },
  "language_info": {
   "codemirror_mode": {
    "name": "ipython",
    "version": 3
   },
   "file_extension": ".py",
   "mimetype": "text/x-python",
   "name": "python",
   "nbconvert_exporter": "python",
   "pygments_lexer": "ipython3",
   "version": "3.11.4"
  }
 },
 "nbformat": 4,
 "nbformat_minor": 5
}
