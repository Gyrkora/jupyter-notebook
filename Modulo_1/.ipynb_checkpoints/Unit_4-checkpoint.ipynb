{
 "cells": [
  {
   "cell_type": "markdown",
   "id": "80763197-ba8c-416d-9799-13f2fc0bb8b8",
   "metadata": {},
   "source": [
    "<h1>Unidad 4</h1>"
   ]
  },
  {
   "cell_type": "markdown",
   "id": "e73a7b3f-53d8-47b1-800b-4202d21fdfef",
   "metadata": {},
   "source": [
    "<h2>Variables globales</h2>"
   ]
  },
  {
   "cell_type": "code",
   "execution_count": null,
   "id": "fdc2c20a-2736-4115-9b32-59f537923a89",
   "metadata": {},
   "outputs": [],
   "source": [
    "\"\"\" Variable implícitamente global \"\"\"\n",
    "\n",
    "# variable = 5\n",
    "\n",
    "# def sumar_cinco(b):\n",
    "#     c = variable + 5\n",
    "#     return c\n",
    "\n",
    "# print(sumar_cinco(5)) #10\n",
    "\n",
    "\n",
    "\"\"\" Preferencia por variable de bloque \"\"\"\n",
    "\n",
    "# a = 5\n",
    "# b = 6\n",
    "\n",
    "# def a_de_bloque():\n",
    "#     a = 10\n",
    "#     print(a, b)\n",
    "\n",
    "# a_de_bloque() \n",
    "# #10 6\n",
    "# print(a) \n",
    "# #5\n",
    "\n",
    "\"\"\" usando prefijo global \"\"\"\n",
    "\n",
    "# a = 5\n",
    "# b = 6\n",
    "\n",
    "# def a_de_bloque():\n",
    "#     global a\n",
    "#     a = 10\n",
    "#     print(a, b)\n",
    "\n",
    "# a_de_bloque() \n",
    "# # 10 6\n",
    "# print(a) \n",
    "# # 10\n",
    "\n",
    "\n",
    "\"\"\" confundiendo a Python tratando de cambiar una variable global sin prefijo  \"\"\"\n",
    "\n",
    "# a = 5\n",
    "\n",
    "# def print_a():\n",
    "#     # global a\n",
    "#     print(a)\n",
    "#     a = 10\n",
    "   \n",
    "\n",
    "# print_a() \n",
    "\n",
    "\n",
    "\n"
   ]
  },
  {
   "cell_type": "markdown",
   "id": "ba91c7ed-6ab8-4126-ab09-423ea61bbaff",
   "metadata": {},
   "source": [
    "<h3>Ejemplos</h3>"
   ]
  },
  {
   "cell_type": "code",
   "execution_count": 1,
   "id": "26e8bb35-6d11-48e3-803c-6db41d8aed8d",
   "metadata": {},
   "outputs": [
    {
     "name": "stdout",
     "output_type": "stream",
     "text": [
      "1\n",
      "2\n",
      "3\n",
      "4\n"
     ]
    }
   ],
   "source": [
    "\"\"\" Ejemplo de global \"\"\"\n",
    "\n",
    "\"\"\" ejemplo1 \"\"\"\n",
    "ingreso = 0\n",
    "def nuevo_ingreso():\n",
    "    global ingreso \n",
    "    ingreso += 1\n",
    "    print(ingreso) \n",
    "\n",
    "nuevo_ingreso()\n",
    "nuevo_ingreso()\n",
    "nuevo_ingreso()\n",
    "nuevo_ingreso()"
   ]
  },
  {
   "cell_type": "code",
   "execution_count": 9,
   "id": "21c90ae6-1bf4-44c2-9810-801c12cd43e1",
   "metadata": {},
   "outputs": [
    {
     "name": "stdout",
     "output_type": "stream",
     "text": [
      "0 nivel1:  1 nivel2:  2\n",
      "0 nivel1:  1\n",
      "0\n"
     ]
    }
   ],
   "source": [
    "\"\"\" Ejemplo 2 \"\"\"\n",
    "\n",
    "nivel0 = 0\n",
    "\n",
    "def f1():\n",
    "    nivel1 = 1\n",
    "\n",
    "    def f2():\n",
    "        nivel2 = 2\n",
    "        print(nivel0, \"nivel1: \", nivel1, \"nivel2: \", nivel2)\n",
    "\n",
    "    f2()\n",
    "    print(nivel0, \"nivel1: \", nivel1)\n",
    "\n",
    "\n",
    "f1()\n",
    "print(nivel0)"
   ]
  },
  {
   "cell_type": "code",
   "execution_count": 10,
   "id": "019529ac-c70e-4290-9c76-938c2bc7781c",
   "metadata": {},
   "outputs": [
    {
     "name": "stdout",
     "output_type": "stream",
     "text": [
      "0 nivel1:  10 7\n",
      "0 nivel1:  10\n",
      "0\n"
     ]
    }
   ],
   "source": [
    "\n",
    "\"\"\" Ejemplo 3 - nonlocal - cambiando la variable \"nonlocal\" desde dentro de otra función \"\"\"\n",
    "\n",
    "\n",
    "nivel0 = 0\n",
    "\n",
    "def f1():\n",
    "    nivel1 = 1\n",
    "\n",
    "    def f2():\n",
    "        nonlocal nivel1\n",
    "        nivel1 = 10\n",
    "        nivel2 = 7\n",
    "        print(nivel0,\"nivel1: \", nivel1, nivel2)\n",
    "\n",
    "    f2()\n",
    "    print(nivel0,\"nivel1: \", nivel1)\n",
    "\n",
    "\n",
    "f1()\n",
    "print(nivel0)"
   ]
  },
  {
   "cell_type": "markdown",
   "id": "60697b5d-92c3-4f1a-aeae-5c32d3960c14",
   "metadata": {},
   "source": [
    "<h2>Asignación de argumentos</h2>"
   ]
  },
  {
   "cell_type": "code",
   "execution_count": 12,
   "id": "e30e394e-6100-4f7d-94fd-493f31b0837f",
   "metadata": {},
   "outputs": [
    {
     "name": "stdout",
     "output_type": "stream",
     "text": [
      "1 ['manzana', 2]\n",
      "by position 1 2 3\n",
      "by name  1 2 4\n",
      "by name  2 3 4\n",
      "by mix  1 4 1\n",
      "1 2 3\n"
     ]
    }
   ],
   "source": [
    "\n",
    "\"\"\" inmutable vs mutable example 1 \"\"\"\n",
    "def modificar(a, b): \n",
    "    a =2\n",
    "    b[0] = \"manzana\"\n",
    "\n",
    "variable_inmutable = 1\n",
    "variable_mutable = [1, 2]\n",
    "\n",
    "modificar(variable_inmutable, variable_mutable)\n",
    "print(variable_inmutable, variable_mutable)\n",
    "\n",
    "\"\"\" by position \"\"\"\n",
    "\n",
    "def by_position(x, y, z):\n",
    "    print(\"by position\",x, y, z)\n",
    "\n",
    "\n",
    "by_position(1, 2, 3)\n",
    "\n",
    "\"\"\" by name \"\"\"\n",
    "\n",
    "def by_name(x=1, y=2, z=4):\n",
    "    print(\"by name \",x, y, z)\n",
    "\n",
    "by_name()\n",
    "by_name(z=4, x=2, y=3)\n",
    "\n",
    "\"\"\" mix \"\"\"\n",
    "\n",
    "def by_mix(x, y, z):\n",
    "    print(\"by mix \",x, y, z)\n",
    "\n",
    "by_mix(1, z=1, y=4)\n",
    "\n",
    "def by_default(a, b=2, c=3):\n",
    "    print(a, b, c)\n",
    "\n",
    "by_default(1)"
   ]
  },
  {
   "cell_type": "markdown",
   "id": "df0d3b04-65a4-4eff-9226-f7975723f476",
   "metadata": {},
   "source": [
    "<h2>Lambda functions</h2>"
   ]
  },
  {
   "cell_type": "code",
   "execution_count": 18,
   "id": "e20042ad-f82a-49d1-96f4-f8cc3dfec25f",
   "metadata": {},
   "outputs": [
    {
     "name": "stdout",
     "output_type": "stream",
     "text": [
      "[27, 64, 125, 216, 343]\n",
      "my from system [27, 64, 125, 216, 343]\n"
     ]
    }
   ],
   "source": [
    "\n",
    "def my_map(fn, iter_list):\n",
    "    result = []\n",
    "    for item in iter_list:\n",
    "        new_item = fn(item)\n",
    "        result.append(new_item)\n",
    "    return(result)\n",
    "\n",
    "nums = [3, 4, 5, 6, 7]\n",
    "\n",
    "cubed = my_map(lambda x: x**3, nums)\n",
    "\n",
    "print(cubed)\n",
    "\n",
    "\n",
    "a = [1, 2, 3, 4]\n",
    "\n",
    "\n",
    "new_list = list(map(lambda x: x**3, nums))\n",
    "print(\"my from system\",new_list)\n"
   ]
  },
  {
   "cell_type": "markdown",
   "id": "468ca1ca-924b-4b0a-ac64-734fedb03463",
   "metadata": {},
   "source": [
    "<h2>Recursividad</h2>"
   ]
  },
  {
   "cell_type": "code",
   "execution_count": 14,
   "id": "76a0c6b4-60d7-43a9-8e22-404c4e2339be",
   "metadata": {},
   "outputs": [
    {
     "name": "stdout",
     "output_type": "stream",
     "text": [
      "[1, 2, 3, 4, 5]\n",
      "[2, 3, 4, 5]\n",
      "[3, 4, 5]\n",
      "[4, 5]\n",
      "[5]\n",
      "[]\n",
      "15\n"
     ]
    }
   ],
   "source": [
    "def misuma(L):\n",
    " print(L)\n",
    " if not L:\n",
    "     return 0\n",
    " else:\n",
    "     return L[0] + misuma(L[1:])\n",
    "print(misuma([1, 2, 3, 4, 5]))\n"
   ]
  },
  {
   "cell_type": "code",
   "execution_count": 15,
   "id": "bc3176a4-0e19-4ba2-aae2-4fbb453bff42",
   "metadata": {},
   "outputs": [
    {
     "name": "stdout",
     "output_type": "stream",
     "text": [
      "15\n"
     ]
    }
   ],
   "source": [
    "# lo mismo en recursividad ternaria\n",
    "\n",
    "def miSuma(L):\n",
    " return 0 if not L else L[0] + miSuma(L[1:])\n",
    "print(miSuma([1, 2, 3, 4, 5]))"
   ]
  },
  {
   "cell_type": "code",
   "execution_count": 19,
   "id": "0c8c9b68-9c01-4971-b044-092aebc5a262",
   "metadata": {},
   "outputs": [
    {
     "name": "stdout",
     "output_type": "stream",
     "text": [
      "11.0\n"
     ]
    }
   ],
   "source": [
    "def mi_suma(param):\n",
    "    if not param:\n",
    "        return 0\n",
    "    \n",
    "    return   secundaria(param)\n",
    "\n",
    "def secundaria(param):\n",
    "    return param[0] + mi_suma(param[1:])\n",
    "\n",
    "print(mi_suma([1.1, 2.2, 3.3, 4.4]))"
   ]
  },
  {
   "cell_type": "code",
   "execution_count": null,
   "id": "9490b4cc-1c12-452c-a1eb-499599c8f1fb",
   "metadata": {},
   "outputs": [],
   "source": [
    "\"\"\" factorial \"\"\"\n",
    "\n",
    "\"\"\" n1 \n",
    "\n",
    "n * n-1 * n-2 .... *1 = \n",
    "\n",
    " \"\"\""
   ]
  },
  {
   "cell_type": "code",
   "execution_count": 21,
   "id": "86bfbf54-ecc6-473c-817c-9b90c4c26ea7",
   "metadata": {},
   "outputs": [
    {
     "name": "stdin",
     "output_type": "stream",
     "text": [
      "diga su edad 32\n"
     ]
    },
    {
     "ename": "TypeError",
     "evalue": "'int' object is not subscriptable",
     "output_type": "error",
     "traceback": [
      "\u001b[1;31m-------------------------------------------------\u001b[0m",
      "\u001b[1;31mTypeError\u001b[0m       Traceback (most recent call last)",
      "Cell \u001b[1;32mIn[21], line 8\u001b[0m\n\u001b[0;32m      5\u001b[0m         x \u001b[38;5;241m=\u001b[39m x\n\u001b[0;32m      6\u001b[0m         \u001b[38;5;28mprint\u001b[39m(num)\n\u001b[1;32m----> 8\u001b[0m \u001b[43medad\u001b[49m\u001b[43m(\u001b[49m\u001b[43m)\u001b[49m\n",
      "Cell \u001b[1;32mIn[21], line 3\u001b[0m, in \u001b[0;36medad\u001b[1;34m()\u001b[0m\n\u001b[0;32m      1\u001b[0m \u001b[38;5;28;01mdef\u001b[39;00m \u001b[38;5;21medad\u001b[39m():\n\u001b[0;32m      2\u001b[0m     num \u001b[38;5;241m=\u001b[39m \u001b[38;5;28mint\u001b[39m(\u001b[38;5;28minput\u001b[39m(\u001b[38;5;124m\"\u001b[39m\u001b[38;5;124mdiga su edad\u001b[39m\u001b[38;5;124m\"\u001b[39m))\n\u001b[1;32m----> 3\u001b[0m     \u001b[38;5;28;01mfor\u001b[39;00m x \u001b[38;5;129;01min\u001b[39;00m \u001b[38;5;28mrange\u001b[39m(\u001b[43mnum\u001b[49m\u001b[43m[\u001b[49m\u001b[38;5;241;43m-\u001b[39;49m\u001b[38;5;241;43m1\u001b[39;49m\u001b[43m]\u001b[49m, num):\n\u001b[0;32m      4\u001b[0m         num \u001b[38;5;241m-\u001b[39m\u001b[38;5;241m=\u001b[39m \u001b[38;5;241m1\u001b[39m\n\u001b[0;32m      5\u001b[0m         x \u001b[38;5;241m=\u001b[39m x\n",
      "\u001b[1;31mTypeError\u001b[0m: 'int' object is not subscriptable"
     ]
    }
   ],
   "source": [
    "def edad():\n",
    "    num = int(input(\"diga su edad\"))\n",
    "    for x in range(-1, num):\n",
    "        num -= 1\n",
    "        x = x\n",
    "        print(num)\n",
    "\n",
    "edad()"
   ]
  }
 ],
 "metadata": {
  "kernelspec": {
   "display_name": "Python 3 (ipykernel)",
   "language": "python",
   "name": "python3"
  },
  "language_info": {
   "codemirror_mode": {
    "name": "ipython",
    "version": 3
   },
   "file_extension": ".py",
   "mimetype": "text/x-python",
   "name": "python",
   "nbconvert_exporter": "python",
   "pygments_lexer": "ipython3",
   "version": "3.11.4"
  }
 },
 "nbformat": 4,
 "nbformat_minor": 5
}
