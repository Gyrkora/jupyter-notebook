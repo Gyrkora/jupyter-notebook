{
 "cells": [
  {
   "cell_type": "markdown",
   "id": "e5fc776d-90d2-4304-9c87-971c274796b5",
   "metadata": {},
   "source": [
    "# Aclaraciones de Contenidos"
   ]
  },
  {
   "cell_type": "markdown",
   "id": "4aca7cb0-cca2-4e9a-9398-888dc061b95e",
   "metadata": {},
   "source": [
    "## Diferencia entre atributo de clase vs atributo de instancia\n",
    "\n",
    "https://es.stackoverflow.com/questions/132561/diferencia-entre-atributos-de-instancia-y-atributos-de-clase"
   ]
  },
  {
   "cell_type": "code",
   "execution_count": null,
   "id": "195b4c35-6b57-4e06-9863-8c4558c44916",
   "metadata": {},
   "outputs": [],
   "source": []
  }
 ],
 "metadata": {
  "kernelspec": {
   "display_name": "Python 3 (ipykernel)",
   "language": "python",
   "name": "python3"
  },
  "language_info": {
   "codemirror_mode": {
    "name": "ipython",
    "version": 3
   },
   "file_extension": ".py",
   "mimetype": "text/x-python",
   "name": "python",
   "nbconvert_exporter": "python",
   "pygments_lexer": "ipython3",
   "version": "3.11.4"
  }
 },
 "nbformat": 4,
 "nbformat_minor": 5
}
