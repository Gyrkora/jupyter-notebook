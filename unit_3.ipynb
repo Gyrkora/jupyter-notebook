{
 "cells": [
  {
   "cell_type": "markdown",
   "id": "86c76678-6b24-4b8b-b97b-489e8808396d",
   "metadata": {},
   "source": [
    "<h1>Unidad 3</h1>\n",
    "\n",
    "<h2>Tuples</h2>\n",
    "\n",
    "<h3>Diferencias entre tuples y lists</h3>\n",
    "\n",
    "<p style=\"margin: 2px\n",
    "\">Las Tuplas son inmutables, mientras que las Listas son mutables \n",
    "Las tuplas en Python son inmutables, lo que significa que una vez creada una tupla, sus elementos no pueden cambiar \n",
    "\r\n",
    "Las tuplas no pueden ser alteradas</p\n",
    "\n",
    "<ul>\n",
    "    <li>\n",
    "        Tuple is an immutable sequence in python.nt.\n",
    "   lii\n",
    "     <li>\n",
    "    It cannot be changed or replaced since it is immutable.\n",
    "    </li>\n",
    "     <li>\n",
    "    It is defined under parenthesis().\n",
    "    </li>\n",
    "      <li>\n",
    "       Tuples can store any type of element.\n",
    "    </li>\n",
    "    st>\n",
    "</ul>>"
   ]
  },
  {
   "cell_type": "code",
   "execution_count": 1,
   "id": "af0ffaa6-e0b8-46b6-9832-9bcbd24cb933",
   "metadata": {},
   "outputs": [
    {
     "name": "stdout",
     "output_type": "stream",
     "text": [
      "mi lista1\n",
      "primer elemento list 1\n",
      "mi tuple ['1', 1, True]\n",
      "mi primer elemnto tuple 1\n"
     ]
    }
   ],
   "source": [
    "mi_list = ['1', 1, True ]\n",
    "print('mi lista'  + mi_list[0])\n",
    "print('primer elemento list', mi_list[0])\n",
    "\n",
    "\n",
    "my_tuple = ['1', 1, True ]\n",
    "print('mi tuple' , my_tuple)\n",
    "\n",
    "print('mi primer elemnto tuple' ,my_tuple[0])"
   ]
  },
  {
   "cell_type": "markdown",
   "id": "94174a65-dccc-4505-9711-f07b4158d489",
   "metadata": {},
   "source": [
    "<h3>¿Cómo saber los id?</h3>"
   ]
  },
  {
   "cell_type": "code",
   "execution_count": 11,
   "id": "d909e32a-434b-400e-b554-933b4e467cba",
   "metadata": {},
   "outputs": [
    {
     "name": "stdout",
     "output_type": "stream",
     "text": [
      "2157152788096\n",
      "2157152671296\n"
     ]
    }
   ],
   "source": [
    "\n",
    "mi_list = ['1', 1, True ]\n",
    "my_tuple = ('1', 1, True )\n",
    "\n",
    "\n",
    "print(id(mi_list))\n",
    "print(id(my_tuple))"
   ]
  },
  {
   "cell_type": "markdown",
   "id": "a5ff455b-c820-4ea4-8b4e-f44bb815697f",
   "metadata": {},
   "source": [
    "\n",
    "<h3>Los id's mutan y no</h3>\n",
    "<p>el id de las tuplas cambian porque no son los mismos elementos, en cambio las listas, al ser mutables, conservan su id</p>"
   ]
  },
  {
   "cell_type": "code",
   "execution_count": 10,
   "id": "2ff374ef-1c2a-41bb-befc-8ccfdad1d407",
   "metadata": {},
   "outputs": [
    {
     "name": "stdout",
     "output_type": "stream",
     "text": [
      "an list 2157152644544\n",
      "dp list 2157152644544\n",
      "an tuple 2157152671296\n",
      "dp tuple 2157152310176\n"
     ]
    }
   ],
   "source": [
    "\n",
    "mi_list = ['1', 1, True ]\n",
    "\n",
    "my_tuple = ('1', 1, True )\n",
    "\n",
    "print(\"an list\", id(mi_list))\n",
    "mi_list += [3, 4]\n",
    "print(\"dp list\", id(mi_list))\n",
    "\n",
    "print(\"an tuple\", id(my_tuple))\n",
    "my_tuple += (3, 4) # no se puede modificar un tuple\n",
    "print(\"dp tuple\", id(my_tuple))\n",
    "# print(id(my_tuple))\n"
   ]
  },
  {
   "cell_type": "markdown",
   "id": "99c9de3b-329b-4f88-88b9-ea2dde92ae7e",
   "metadata": {},
   "source": [
    "<h3>Agregar elementos a tuples</h3>"
   ]
  },
  {
   "cell_type": "code",
   "execution_count": 14,
   "id": "b9197f83-54cf-4069-b978-9797d344d2d4",
   "metadata": {},
   "outputs": [
    {
     "name": "stdout",
     "output_type": "stream",
     "text": [
      "separado = (('1', 1, True), ('3', 2, False))\n",
      "includo = ('1', 1, True, '3', 2, False)\n"
     ]
    }
   ],
   "source": [
    "my_tuple = ('1', 1, True )\n",
    "my_tuple2 = ('3', 2, False )\n",
    "my_tuple3 = my_tuple, my_tuple2\n",
    "print('separado =', my_tuple3)\n",
    "my_tuple4 = my_tuple + my_tuple2\n",
    "print('includo =',my_tuple4)"
   ]
  },
  {
   "cell_type": "markdown",
   "id": "27b11f5e-e48d-4ff6-a7e8-bfed373fb705",
   "metadata": {},
   "source": [
    "<h3>Encontrar o identificar elementos</h3>"
   ]
  },
  {
   "cell_type": "code",
   "execution_count": null,
   "id": "1178061d-5db9-4e3b-9d77-9cbd5e894702",
   "metadata": {},
   "outputs": [],
   "source": [
    "my_tuple = ('1', 1, True )\n",
    "my_tuple2 = ('3', \"1\", False )\n",
    "my_tuple3 = my_tuple, my_tuple2\n",
    "my_tuple4 = my_tuple + my_tuple2\n",
    "\n",
    "\n",
    "print(type(my_tuple4[1]))\n",
    "print(my_tuple4.index('1'))\n",
    "print(my_tuple4.count('1'))"
   ]
  },
  {
   "cell_type": "markdown",
   "id": "8f97521a-3620-4fb6-be8c-2a3fd75e0af6",
   "metadata": {},
   "source": [
    "<h2>Conclusión</h2>\n",
    "\r",
    "<p> Para recapitular, las similitudes entre tuplas y listas son:\r\n",
    "\r\n",
    "Son considerados objetos (instancias de una clase).\r\n",
    "Son contenedores de colecciones de datos, pudiendo ser estos de cualquier tipo.\r\n",
    "Son colecciones ordenadas, mantienendo siempre ese orden. Una vez que se ha definido el orden de los elementos, ya no cambiará. Esto puede parecer contradictorio en el caso de las listas. Una tupla mantiene su orden desde el mismo momento en que se crea, no pudiendo alterarlo el programador. En una lista podemos cambiar el orden, pero una vez establecido ese nuevo orden, se garantiza que se mantendrá hasta que decidamos volver a cambiarlo. Esta es una característica que no se garantiza, por ejemplo, en el caso de los diccionarios.\r\n",
    "Tanto en tuplas como en listas puedes acceder a un elemento en particular mediante su índice.\r\n",
    "Las diferencias entre tuplas y listas son:\r\n",
    "\r\n",
    "Una tupla es inmutable. Úsalas cuando sepas con seguridad que tus datos no van a variar durante el ciclo de vida del programa o cuando quieras garantizar que se mantendrán constantes.\r\n",
    "Una lista es mutable. Se puede añadir o eliminar elementos. Las listas crecen y decrecen durante la vida del programa. Úsalas cuando tus datos, por su propia naturaleza, sean susceptibles de variar.\n",
    "</p>"
   ]
  },
  {
   "cell_type": "markdown",
   "id": "7f755f01-e65f-407e-adf0-139a93e29b4f",
   "metadata": {},
   "source": [
    "<h2>Set</h2>\n",
    "\n",
    "<p>unordered collections of unique elements</p>"
   ]
  },
  {
   "cell_type": "code",
   "execution_count": 15,
   "id": "2adfbfda-be00-4bf9-82b7-4dfd2097d4b1",
   "metadata": {},
   "outputs": [
    {
     "name": "stdout",
     "output_type": "stream",
     "text": [
      "[1, 2, 3, 3]\n",
      "{1, 2, 3}\n",
      "[1, 2, 3]\n"
     ]
    }
   ],
   "source": [
    "set1  = {1, 2, 3}\n",
    "# print(set1)\n",
    "# print(type(set1))\n",
    "\n",
    "mi_lista1 = [1,2,3, 3]\n",
    "print(mi_lista1)\n",
    "#quiero eliminar elementos\n",
    "set2 =  set(mi_lista1)\n",
    "print(set2)\n",
    "#transformar de nuevo\n",
    "mi_lista1 = list(set2)\n",
    "# se eliminaron los elementos repetidos\n",
    "print(mi_lista1) "
   ]
  },
  {
   "cell_type": "markdown",
   "id": "5cbef4ea-0357-4767-8108-983f51b785fc",
   "metadata": {},
   "source": [
    "<h3>Comparandos sets</h3>"
   ]
  },
  {
   "cell_type": "code",
   "execution_count": 16,
   "id": "87cee83f-045d-4648-ba87-5a4db716af5c",
   "metadata": {},
   "outputs": [
    {
     "name": "stdout",
     "output_type": "stream",
     "text": [
      "{1, 2, 3, 4, 5, 6}\n",
      "{1, 2, 3, 4, 5, 6, 7, 10, 59}\n",
      "{10, 7}\n",
      "False\n"
     ]
    }
   ],
   "source": [
    "set1 = {1,2,3,4,5,6,7, 6}\n",
    "set2 = {1,2,3,4,5,6,7, 7, 10, 2}\n",
    "set3 = {1,2,3, 3, 4,5,6, 3 ,3,59}\n",
    "\n",
    "#para intersección utilizo el &\n",
    "print(set2 & set3)\n",
    "\n",
    "#para unión\n",
    "print(set2 | set3)\n",
    "\n",
    "#para diferenciar\n",
    "print(set2 - set3)\n",
    "\n",
    "#el elemento dos tiene todos los elementos del set 3? false\n",
    "print(set2 > set3)\n",
    "\n",
    "#true\n",
    "# set2 = {1,2,3,4,5,6,7, 7, 10, 2, 59}"
   ]
  },
  {
   "cell_type": "markdown",
   "id": "83a0cd7c-f4fc-43aa-8d9b-e62b8848954c",
   "metadata": {},
   "source": [
    "<h3>Chat GPT code explanation</h3>\n",
    "\n",
    "This code snippet demonstrates the basic operations you can perform with sets in Python, which are unordered collections of unique elements. Here's an explanation of each part of the code:\r\n",
    "\r\n",
    "```python\r\n",
    "set1 = {1, 2, 3, 4, 5, 6, 7, 6}\r\n",
    "set2 = {1, 2, 3, 4, 5, 6, 7, 7, 10, 2}\r\n",
    "set3 = {1, 2, 3, 3, 4, 5, 6, 3, 3, 59}\r\n",
    "```\r\n",
    "\r\n",
    "In this part, three sets (`set1`, `set2`, and `set3`) are defined. Sets in Python automatically remove duplicate elements, so even though duplicates are present in the initial declarations, only unique elements are stored in each set.\r\n",
    "\r\n",
    "```python\r\n",
    "print(set2 & set3)\r\n",
    "```\r\n",
    "\r\n",
    "The `&` operator is used to find the intersection of two sets. It returns a new set that contains only the elements that are common to both `set2` and `set3`. In this case, the output will be `{1, 2, 3, 4, 5, 6, 7}`.\r\n",
    "\r\n",
    "```python\r\n",
    "print(set2 | set3)\r\n",
    "```\r\n",
    "\r\n",
    "The `|` operator is used to find the union of two sets. It returns a new set that contains all the elements from both `set2` and `set3`, without any duplicates. In this case, the output will be `{1, 2, 3, 4, 5, 6, 7, 10, 59}`.\r\n",
    "\r\n",
    "```python\r\n",
    "print(set2 - set3)\r\n",
    "```\r\n",
    "\r\n",
    "The `-` operator is used to find the difference between two sets. It returns a new set that contains elements that are present in `set2` but not in `set3`. In this case,  output will be `{10, 7, 2}`.\r\n",
    "\r\n",
    "```python\r\n",
    "print(set2 > set3)\r\n",
    "```\r\n",
    "\r\n",
    "The `>` operator is used to check if one set is a superset of another set. It returns `True` if `set2` contains all the elements of `set3`, otherwise, it returns `False`. In this case, the output will be `False` since not all elements in `set3` are in `set2`.\r\n",
    "\r\n",
    "In summary, this code demonstrates the intersection, union, and difference operations between sets, as well as how to check if one set is a superset of another set."
   ]
  },
  {
   "cell_type": "code",
   "execution_count": 19,
   "id": "287ffa34-566b-4b43-8737-1723de1c7835",
   "metadata": {},
   "outputs": [
    {
     "name": "stdout",
     "output_type": "stream",
     "text": [
      "estos socios vinieron a los dos clubes esta semana {'Juan', 'Pedro', 'Ana'}\n",
      "<class 'set'>\n"
     ]
    }
   ],
   "source": [
    "socios = ['Juan', 'Pedro', 'Ana', 'Susana', 'Pablo']\n",
    "ajedrez = ['Juan', 'Pedro', 'Ana', 'Susana']\n",
    "natacion = ['Juan', 'Pedro', 'Ana', 'Pablo']\n",
    "resultado = set(ajedrez).intersection(set(natacion))\n",
    "print('estos socios vinieron a los dos clubes esta semana',resultado) #quiénes vinieron esta semana al club\n",
    "print(type(resultado))"
   ]
  },
  {
   "cell_type": "code",
   "execution_count": null,
   "id": "3d95206b-3418-4ee4-a5e5-9ba0e77a20d3",
   "metadata": {},
   "outputs": [],
   "source": []
  }
 ],
 "metadata": {
  "kernelspec": {
   "display_name": "Python 3 (ipykernel)",
   "language": "python",
   "name": "python3"
  },
  "language_info": {
   "codemirror_mode": {
    "name": "ipython",
    "version": 3
   },
   "file_extension": ".py",
   "mimetype": "text/x-python",
   "name": "python",
   "nbconvert_exporter": "python",
   "pygments_lexer": "ipython3",
   "version": "3.11.4"
  }
 },
 "nbformat": 4,
 "nbformat_minor": 5
}
